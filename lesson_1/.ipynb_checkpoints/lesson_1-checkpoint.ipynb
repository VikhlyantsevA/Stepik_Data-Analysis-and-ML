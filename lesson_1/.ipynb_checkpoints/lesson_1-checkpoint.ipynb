{
 "cells": [
  {
   "cell_type": "code",
   "execution_count": 21,
   "metadata": {},
   "outputs": [],
   "source": [
    "import pandas as pd\n",
    "import numpy as np\n",
    "\n",
    "%matplotlib inline\n",
    "import matplotlib.pyplot as plt\n",
    "import seaborn as sns"
   ]
  },
  {
   "cell_type": "markdown",
   "metadata": {},
   "source": [
    "# Глава 1.4"
   ]
  },
  {
   "cell_type": "code",
   "execution_count": null,
   "metadata": {
    "scrolled": false
   },
   "outputs": [],
   "source": [
    "titanic_df = pd.read_csv('titanic.csv')\n",
    "titanic_df.head()"
   ]
  },
  {
   "cell_type": "code",
   "execution_count": null,
   "metadata": {},
   "outputs": [],
   "source": [
    "titanic_df.shape"
   ]
  },
  {
   "cell_type": "code",
   "execution_count": null,
   "metadata": {},
   "outputs": [],
   "source": [
    "titanic_df.count()"
   ]
  },
  {
   "cell_type": "code",
   "execution_count": null,
   "metadata": {},
   "outputs": [],
   "source": [
    "titanic_df.dtypes.value_counts()"
   ]
  },
  {
   "cell_type": "markdown",
   "metadata": {},
   "source": [
    "# Глава 1.5"
   ]
  },
  {
   "cell_type": "code",
   "execution_count": null,
   "metadata": {},
   "outputs": [],
   "source": [
    "students_performance_df = pd.read_csv('StudentsPerformance.csv')\n",
    "students_performance_df.head()"
   ]
  },
  {
   "cell_type": "code",
   "execution_count": null,
   "metadata": {},
   "outputs": [],
   "source": [
    "len(students_performance_df[students_performance_df['lunch'] == 'free/reduced'])/len(students_performance_df)"
   ]
  },
  {
   "cell_type": "code",
   "execution_count": null,
   "metadata": {
    "scrolled": false
   },
   "outputs": [],
   "source": [
    "students_performance_df['lunch'].value_counts(normalize=True)\n",
    "# .round(2)"
   ]
  },
  {
   "cell_type": "code",
   "execution_count": null,
   "metadata": {},
   "outputs": [],
   "source": [
    "# ??pd.Series.value_counts"
   ]
  },
  {
   "cell_type": "code",
   "execution_count": null,
   "metadata": {},
   "outputs": [],
   "source": [
    "#students_performance_df['average score'] = students_performance_df.filter(like = 'score').apply(sum)\n",
    "#students_performance_df.head()\n",
    "students_performance_df['average score'] = students_performance_df.filter(like = 'score').apply(lambda x: x.mean(),axis=1)"
   ]
  },
  {
   "cell_type": "code",
   "execution_count": null,
   "metadata": {},
   "outputs": [],
   "source": [
    "students_performance_df.groupby(['lunch']).agg(['mean','std'])"
   ]
  },
  {
   "cell_type": "code",
   "execution_count": null,
   "metadata": {},
   "outputs": [],
   "source": [
    "if 'average score' in students_performance_df.columns.tolist():\n",
    "    students_performance_df = students_performance_df.drop('average score',axis=1)"
   ]
  },
  {
   "cell_type": "code",
   "execution_count": null,
   "metadata": {},
   "outputs": [],
   "source": [
    "students_performance_df"
   ]
  },
  {
   "cell_type": "code",
   "execution_count": null,
   "metadata": {
    "scrolled": true
   },
   "outputs": [],
   "source": [
    "students_performance_df = students_performance_df\\\n",
    ".rename(columns=lambda column_name:column_name.lower().replace(' ','_'))\n",
    "students_performance_df.head()"
   ]
  },
  {
   "cell_type": "code",
   "execution_count": null,
   "metadata": {},
   "outputs": [],
   "source": [
    "students_scores = students_performance_df.filter(like='score')\n",
    "students_scores"
   ]
  },
  {
   "cell_type": "code",
   "execution_count": null,
   "metadata": {},
   "outputs": [],
   "source": [
    "students_scores.apply(lambda row: row.mean(), axis=1)"
   ]
  },
  {
   "cell_type": "code",
   "execution_count": null,
   "metadata": {},
   "outputs": [],
   "source": [
    "if 'average_score' not in students_performance_df.columns.tolist():\n",
    "    students_performance_df = students_performance_df\\\n",
    "                            .assign(average_score = students_scores\n",
    "                                                    .apply(lambda row: row.mean().round(2), axis=1))"
   ]
  },
  {
   "cell_type": "code",
   "execution_count": null,
   "metadata": {},
   "outputs": [],
   "source": [
    "students_performance_df"
   ]
  },
  {
   "cell_type": "code",
   "execution_count": null,
   "metadata": {},
   "outputs": [],
   "source": [
    "students_performance_df\\\n",
    ".groupby(['lunch'])\\\n",
    ".mean()\\\n",
    ".rename(columns=lambda column_name: f\"mean_{column_name}\")"
   ]
  },
  {
   "cell_type": "code",
   "execution_count": null,
   "metadata": {},
   "outputs": [],
   "source": [
    "students_performance_df\\\n",
    ".groupby(['lunch'])\\\n",
    ".var()\\\n",
    ".rename(columns=lambda column_name: f\"var_{column_name}\")\n",
    "# .var() - дисперсия\n",
    "# .std() - среднеквадратичное отклонение"
   ]
  },
  {
   "cell_type": "code",
   "execution_count": null,
   "metadata": {},
   "outputs": [],
   "source": [
    "students_performance_df[students_performance_df['parental_level_of_education']\\\n",
    "                        .isin([\"bachelor's degree\", \"master's degree\"])]"
   ]
  },
  {
   "cell_type": "code",
   "execution_count": null,
   "metadata": {},
   "outputs": [],
   "source": [
    "df = pd.read_csv('column_hell.csv')\n",
    "df.head()"
   ]
  },
  {
   "cell_type": "code",
   "execution_count": null,
   "metadata": {
    "scrolled": true
   },
   "outputs": [],
   "source": [
    "selected_columns = df.filter(like='-')\n",
    "#То же самое\n",
    "# selected_columns = df.filter(like='-',axis=1)\n",
    "selected_columns"
   ]
  },
  {
   "cell_type": "code",
   "execution_count": null,
   "metadata": {},
   "outputs": [],
   "source": []
  },
  {
   "cell_type": "markdown",
   "metadata": {},
   "source": [
    "# Глава 1.6"
   ]
  },
  {
   "cell_type": "code",
   "execution_count": null,
   "metadata": {},
   "outputs": [],
   "source": [
    "dota_df = pd.read_csv('dota_hero_stats.csv')\n",
    "dota_df.head()"
   ]
  },
  {
   "cell_type": "code",
   "execution_count": null,
   "metadata": {
    "scrolled": true
   },
   "outputs": [],
   "source": [
    "dota_df.count()"
   ]
  },
  {
   "cell_type": "code",
   "execution_count": null,
   "metadata": {},
   "outputs": [],
   "source": [
    "dota_df.columns.tolist()"
   ]
  },
  {
   "cell_type": "code",
   "execution_count": null,
   "metadata": {},
   "outputs": [],
   "source": [
    "if 'Unnamed: 0' in dota_df.columns.tolist():\n",
    "    dota_df = dota_df.drop(['Unnamed: 0'], axis=1)\n",
    "dota_df"
   ]
  },
  {
   "cell_type": "code",
   "execution_count": null,
   "metadata": {},
   "outputs": [],
   "source": [
    "dota_df.shape"
   ]
  },
  {
   "cell_type": "code",
   "execution_count": null,
   "metadata": {},
   "outputs": [],
   "source": [
    "dota_df.legs.value_counts().sort_index()"
   ]
  },
  {
   "cell_type": "code",
   "execution_count": null,
   "metadata": {},
   "outputs": [],
   "source": [
    "dota_df\\\n",
    ".groupby('legs',as_index=False)\\\n",
    ".agg({'id':'count'})\\\n",
    ".rename(columns={'id':'heroes_number'})"
   ]
  },
  {
   "cell_type": "code",
   "execution_count": null,
   "metadata": {},
   "outputs": [],
   "source": [
    "dota_df\\\n",
    ".groupby('legs')\\\n",
    ".describe()"
   ]
  },
  {
   "cell_type": "code",
   "execution_count": null,
   "metadata": {},
   "outputs": [],
   "source": [
    "dota_df\\\n",
    ".groupby('legs')\\\n",
    ".agg({'legs':'count'})\\\n",
    ".rename(columns={'legs':'heroes_number'})\\\n",
    ".reset_index()"
   ]
  },
  {
   "cell_type": "code",
   "execution_count": null,
   "metadata": {},
   "outputs": [],
   "source": [
    "dota_df\\\n",
    ".groupby('legs')\\\n",
    ".size()"
   ]
  },
  {
   "cell_type": "code",
   "execution_count": null,
   "metadata": {},
   "outputs": [],
   "source": [
    "accountancy_df = pd.read_csv('accountancy.csv')\n",
    "accountancy_df.head()"
   ]
  },
  {
   "cell_type": "code",
   "execution_count": null,
   "metadata": {},
   "outputs": [],
   "source": [
    "accountancy_df.count()"
   ]
  },
  {
   "cell_type": "code",
   "execution_count": null,
   "metadata": {},
   "outputs": [],
   "source": [
    "accountancy_df.shape"
   ]
  },
  {
   "cell_type": "code",
   "execution_count": null,
   "metadata": {},
   "outputs": [],
   "source": [
    "if 'Unnamed: 0' in accountancy_df.columns.tolist():\n",
    "    accountancy_df = accountancy_df.drop(['Unnamed: 0'], axis=1)\n",
    "accountancy_df.head()"
   ]
  },
  {
   "cell_type": "code",
   "execution_count": null,
   "metadata": {},
   "outputs": [],
   "source": [
    "accountancy_df.dtypes"
   ]
  },
  {
   "cell_type": "code",
   "execution_count": null,
   "metadata": {},
   "outputs": [],
   "source": [
    "old_columns_names_list = accountancy_df.columns.tolist()\n",
    "new_columns_names_list = [column_name.lower() for column_name in accountancy_df.columns.tolist()]\n",
    "accountancy_df = accountancy_df\\\n",
    ".rename(columns=dict(zip(old_columns_names_list,new_columns_names_list)))"
   ]
  },
  {
   "cell_type": "code",
   "execution_count": null,
   "metadata": {},
   "outputs": [],
   "source": [
    "# dict(zip(old_columns_names_list,new_columns_names_list))"
   ]
  },
  {
   "cell_type": "code",
   "execution_count": null,
   "metadata": {},
   "outputs": [],
   "source": [
    "accountancy_df.head(20)"
   ]
  },
  {
   "cell_type": "code",
   "execution_count": null,
   "metadata": {},
   "outputs": [],
   "source": [
    "accountancy_df\\\n",
    ".groupby(['type','executor'],as_index=False)\\\n",
    ".agg({'salary':'mean'})\\\n",
    ".round(2)\\\n",
    ".sort_values(by=['type','salary'],ascending=[True, False])\\\n",
    ".groupby(['type'])\\\n",
    ".head(1)"
   ]
  },
  {
   "cell_type": "code",
   "execution_count": null,
   "metadata": {},
   "outputs": [],
   "source": [
    "dota_df.groupby(['attack_type','primary_attr'])\\\n",
    ".size()\\\n",
    ".sort_values(ascending=False)"
   ]
  },
  {
   "cell_type": "code",
   "execution_count": null,
   "metadata": {},
   "outputs": [],
   "source": [
    "concentrations = pd.read_csv('algae.csv')\n",
    "concentrations.head()"
   ]
  },
  {
   "cell_type": "code",
   "execution_count": null,
   "metadata": {},
   "outputs": [],
   "source": [
    "concentrations.dtypes"
   ]
  },
  {
   "cell_type": "code",
   "execution_count": null,
   "metadata": {},
   "outputs": [],
   "source": [
    "concentrations.count()"
   ]
  },
  {
   "cell_type": "code",
   "execution_count": null,
   "metadata": {},
   "outputs": [],
   "source": [
    "mean_concentrations = concentrations\\\n",
    ".groupby('genus')\\\n",
    ".mean()\n",
    "mean_concentrations"
   ]
  },
  {
   "cell_type": "code",
   "execution_count": null,
   "metadata": {},
   "outputs": [],
   "source": [
    "concentrations.query('genus == \"Fucus\"').alanin.describe().round(2)"
   ]
  },
  {
   "cell_type": "code",
   "execution_count": null,
   "metadata": {},
   "outputs": [],
   "source": [
    "concentrations.group.unique()"
   ]
  },
  {
   "cell_type": "code",
   "execution_count": null,
   "metadata": {},
   "outputs": [],
   "source": [
    "concentrations.groupby('group').citrate.var().round(2)"
   ]
  },
  {
   "cell_type": "code",
   "execution_count": null,
   "metadata": {},
   "outputs": [],
   "source": [
    "concentrations.groupby('group').species.nunique()"
   ]
  },
  {
   "cell_type": "code",
   "execution_count": null,
   "metadata": {},
   "outputs": [],
   "source": [
    "concentrations.groupby('group').sucrose.describe()"
   ]
  },
  {
   "cell_type": "code",
   "execution_count": null,
   "metadata": {},
   "outputs": [],
   "source": [
    "concentrations.groupby('group').describe().round(2).transpose()"
   ]
  },
  {
   "cell_type": "code",
   "execution_count": null,
   "metadata": {},
   "outputs": [],
   "source": [
    "concentrations\\\n",
    ".groupby('group')\\\n",
    ".sucrose\\\n",
    ".apply(lambda x:x.max()-x.min())\\\n",
    ".round(2)\\\n",
    ".rename('sucrose_values_range')"
   ]
  },
  {
   "cell_type": "code",
   "execution_count": null,
   "metadata": {},
   "outputs": [],
   "source": [
    "concentrations.alanin"
   ]
  },
  {
   "cell_type": "code",
   "execution_count": null,
   "metadata": {},
   "outputs": [],
   "source": [
    "concentrations.alanin**2"
   ]
  },
  {
   "cell_type": "code",
   "execution_count": null,
   "metadata": {},
   "outputs": [],
   "source": [
    "np.log(concentrations.alanin)"
   ]
  },
  {
   "cell_type": "markdown",
   "metadata": {},
   "source": [
    "# Глава 1.7"
   ]
  },
  {
   "cell_type": "code",
   "execution_count": null,
   "metadata": {},
   "outputs": [],
   "source": [
    "df = pd.read_csv('income.csv')\n",
    "df"
   ]
  },
  {
   "cell_type": "code",
   "execution_count": null,
   "metadata": {},
   "outputs": [],
   "source": [
    "plt.plot(df.index, df.income)"
   ]
  },
  {
   "cell_type": "code",
   "execution_count": null,
   "metadata": {},
   "outputs": [],
   "source": [
    "df.plot()"
   ]
  },
  {
   "cell_type": "code",
   "execution_count": null,
   "metadata": {},
   "outputs": [],
   "source": [
    "sns.lineplot(x=df.index,y=df.income)"
   ]
  },
  {
   "cell_type": "code",
   "execution_count": null,
   "metadata": {},
   "outputs": [],
   "source": [
    "df.plot(kind='line')"
   ]
  },
  {
   "cell_type": "code",
   "execution_count": null,
   "metadata": {},
   "outputs": [],
   "source": [
    "sns.lineplot(data=df)"
   ]
  },
  {
   "cell_type": "code",
   "execution_count": null,
   "metadata": {},
   "outputs": [],
   "source": [
    "df.income.plot()"
   ]
  },
  {
   "cell_type": "code",
   "execution_count": null,
   "metadata": {},
   "outputs": [],
   "source": [
    "df['income'].plot()"
   ]
  },
  {
   "cell_type": "code",
   "execution_count": null,
   "metadata": {},
   "outputs": [],
   "source": [
    "df_1 = pd.read_csv('dataset_209770_6.txt', sep=' ')\n",
    "df_1"
   ]
  },
  {
   "cell_type": "code",
   "execution_count": null,
   "metadata": {},
   "outputs": [],
   "source": [
    "sns.scatterplot(x='x', y='y', data=df_1)"
   ]
  },
  {
   "cell_type": "code",
   "execution_count": null,
   "metadata": {},
   "outputs": [],
   "source": [
    "genome_df = pd.read_csv('genome_matrix.csv')\n",
    "genome_df"
   ]
  },
  {
   "cell_type": "code",
   "execution_count": null,
   "metadata": {},
   "outputs": [],
   "source": [
    "genome_df = genome_df\\\n",
    ".rename(columns={'Unnamed: 0':'species_name'})\\\n",
    ".set_index(keys='species_name')\n",
    "\n",
    "genome_df"
   ]
  },
  {
   "cell_type": "code",
   "execution_count": null,
   "metadata": {},
   "outputs": [],
   "source": [
    "g = sns.heatmap(data=genome_df, cmap='viridis')\n",
    "g.xaxis.set_ticks_position('top')\n",
    "g.xaxis.set_tick_params(rotation=90)"
   ]
  },
  {
   "cell_type": "code",
   "execution_count": null,
   "metadata": {
    "scrolled": true
   },
   "outputs": [],
   "source": [
    "dota_df.head()"
   ]
  },
  {
   "cell_type": "code",
   "execution_count": null,
   "metadata": {},
   "outputs": [],
   "source": [
    "dota_df['roles_number'] = dota_df.roles.apply(lambda x: len(x.split(',')))\n",
    "dota_df.roles_number.value_counts().plot.bar()"
   ]
  },
  {
   "cell_type": "code",
   "execution_count": null,
   "metadata": {},
   "outputs": [],
   "source": [
    "#Векторизация данных pd.Series.str - вектор строковых значений\n",
    "dota_df.roles.str.split(',').str.len()"
   ]
  },
  {
   "cell_type": "code",
   "execution_count": null,
   "metadata": {},
   "outputs": [],
   "source": [
    "def string_list_to_list(string_list):\n",
    "# Убираем пробелы и скобки в начале и конце строки и разбиваем её по разделителю \",\"    \n",
    "    list_ = string_list.strip(\" []\").split(\",\")\n",
    "\n",
    "# Убираем пробелы и кавычки в строковых элементах списка list_ \n",
    "    list_ = [element.strip(\"' \") for element in list_]\n",
    "    return list_"
   ]
  },
  {
   "cell_type": "code",
   "execution_count": null,
   "metadata": {
    "scrolled": false
   },
   "outputs": [],
   "source": [
    "dota_roles = dota_df.roles.apply(string_list_to_list)\n",
    "dota_roles"
   ]
  },
  {
   "cell_type": "code",
   "execution_count": null,
   "metadata": {},
   "outputs": [],
   "source": [
    "dota_roles.explode().value_counts().plot.bar()"
   ]
  },
  {
   "cell_type": "code",
   "execution_count": null,
   "metadata": {},
   "outputs": [],
   "source": [
    "import json"
   ]
  },
  {
   "cell_type": "code",
   "execution_count": null,
   "metadata": {},
   "outputs": [],
   "source": [
    "json.loads('[123,\"one\",\"two\"]')"
   ]
  },
  {
   "cell_type": "code",
   "execution_count": null,
   "metadata": {},
   "outputs": [],
   "source": [
    "# Выдает ошибку\n",
    "# json.loads(\"[123,'one','two']\")"
   ]
  },
  {
   "cell_type": "code",
   "execution_count": null,
   "metadata": {},
   "outputs": [],
   "source": [
    "iris_df = pd.read_csv('iris.csv')\n",
    "iris_df.head()"
   ]
  },
  {
   "cell_type": "code",
   "execution_count": null,
   "metadata": {},
   "outputs": [],
   "source": [
    "iris_df.dtypes"
   ]
  },
  {
   "cell_type": "code",
   "execution_count": null,
   "metadata": {},
   "outputs": [],
   "source": [
    "iris_df.count()"
   ]
  },
  {
   "cell_type": "code",
   "execution_count": null,
   "metadata": {},
   "outputs": [],
   "source": [
    "# ??pd.DataFrame.drop"
   ]
  },
  {
   "cell_type": "code",
   "execution_count": null,
   "metadata": {},
   "outputs": [],
   "source": [
    "iris_df = iris_df.drop(['Unnamed: 0'],axis=1)\n",
    "iris_df.head()"
   ]
  },
  {
   "cell_type": "code",
   "execution_count": null,
   "metadata": {},
   "outputs": [],
   "source": [
    "for column in iris_df:\n",
    "    iris_df[column].plot.hist(bins=50)"
   ]
  },
  {
   "cell_type": "code",
   "execution_count": null,
   "metadata": {},
   "outputs": [],
   "source": [
    "iris_df.plot.hist(bins=50)"
   ]
  },
  {
   "cell_type": "code",
   "execution_count": null,
   "metadata": {},
   "outputs": [],
   "source": [
    "iris_df.species.value_counts()"
   ]
  },
  {
   "cell_type": "code",
   "execution_count": null,
   "metadata": {},
   "outputs": [],
   "source": [
    "iris_df.hist(color=\"g\", alpha=0.5, bins=50, figsize=(10,10))"
   ]
  },
  {
   "cell_type": "code",
   "execution_count": null,
   "metadata": {
    "scrolled": false
   },
   "outputs": [],
   "source": [
    "for column in iris_df:\n",
    "    sns.displot(data=iris_df, x=column, kde=True)"
   ]
  },
  {
   "cell_type": "code",
   "execution_count": null,
   "metadata": {},
   "outputs": [],
   "source": [
    "sns.violinplot(y='petal length', data=iris_df, color='purple')"
   ]
  },
  {
   "cell_type": "code",
   "execution_count": null,
   "metadata": {},
   "outputs": [],
   "source": [
    "sns.set_theme(style='darkgrid')\n",
    "g = sns.pairplot(data=iris_df, kind='scatter', diag_kind='hist', hue='species', palette='Set2', markers=[\"o\", \"s\", \"D\"])\n",
    "g.map_upper(sns.regplot, scatter_kws={\"s\":2})\n",
    "g.map_lower(sns.kdeplot, levels=3)"
   ]
  },
  {
   "cell_type": "code",
   "execution_count": null,
   "metadata": {
    "scrolled": false
   },
   "outputs": [],
   "source": [
    "g = sns.PairGrid(data=iris_df, hue='species', palette='Set1')\n",
    "g.map_upper(sns.regplot)\n",
    "g.add_legend()\n",
    "g.map_diag(sns.histplot)\n",
    "g.map_lower(sns.kdeplot)\n",
    "g.add_legend()"
   ]
  },
  {
   "cell_type": "code",
   "execution_count": null,
   "metadata": {},
   "outputs": [],
   "source": [
    "g = sns.PairGrid(data=iris_df, hue='species', palette='Set1')\n",
    "g.map_upper(sns.regplot)\n",
    "g.map_diag(sns.kdeplot)\n",
    "g.map_lower(sns.kdeplot)\n",
    "g.add_legend()"
   ]
  },
  {
   "cell_type": "code",
   "execution_count": null,
   "metadata": {},
   "outputs": [],
   "source": [
    "my_stat = pd.read_csv('my_stat_1.csv')\n",
    "my_stat"
   ]
  },
  {
   "cell_type": "code",
   "execution_count": null,
   "metadata": {},
   "outputs": [],
   "source": [
    "my_stat.fillna(value={'session_value':0}, inplace=True)\n",
    "my_stat"
   ]
  },
  {
   "cell_type": "code",
   "execution_count": null,
   "metadata": {},
   "outputs": [],
   "source": [
    "# Рассчитываем медиану\n",
    "median_positive_n_users = my_stat\\\n",
    ".query('n_users >= 0')\\\n",
    ".n_users\\\n",
    ".median()\\\n",
    ".round(0)\\\n",
    ".astype(int)\n",
    "\n",
    "median_positive_n_users\n",
    "\n",
    "# Рассчитываем среднее, округлённое до целого и преобразованное в int\n",
    "# mean_positive_n_users = my_stat\\\n",
    "# .query('n_users >= 0')\\\n",
    "# .n_users\\\n",
    "# .mean()\\\n",
    "# .round(0)\\\n",
    "# .astype(int)\n",
    "\n",
    "# mean_positive_n_users"
   ]
  },
  {
   "cell_type": "code",
   "execution_count": null,
   "metadata": {},
   "outputs": [],
   "source": [
    "my_stat.dtypes"
   ]
  },
  {
   "cell_type": "code",
   "execution_count": null,
   "metadata": {},
   "outputs": [],
   "source": [
    "# Замена отрицательных значений на медиану\n",
    "# Вариант 1: через pd.DataFrame.mask()\n",
    "# my_stat['n_users'] = my_stat.n_users.mask(cond=my_stat.n_users < 0, other=median_positive_n_users)\n",
    "# my_stat\n",
    "\n",
    "# или inplace!!\n",
    "my_stat.n_users.mask(cond=my_stat.n_users < 0, other=median_positive_n_users,inplace=True)\n",
    "my_stat\n",
    "\n",
    "# Вариант 2: через pd.Series.apply()\n",
    "# my_stat['n_users'] = my_stat.n_users.apply(lambda x: median_positive_n_users if x < 0 else x)\n",
    "# my_stat\n",
    "\n",
    "# Вариант 3: через pd.DataFrame.loc[ , ]\n",
    "# my_stat.loc[my_stat.n_users < 0,'n_users'] = median_positive_n_users\n",
    "# my_stat\n",
    "\n",
    "# То же с заменой на среднее\n",
    "# my_stat['n_users'] = my_stat.n_users.mask(cond=my_stat.n_users < 0, other=mean_positive_n_users)\n",
    "# my_stat"
   ]
  },
  {
   "cell_type": "code",
   "execution_count": null,
   "metadata": {},
   "outputs": [],
   "source": [
    "mean_session_value_data = my_stat\\\n",
    ".groupby('group', as_index=False)\\\n",
    ".agg({'session_value':'mean'})\\\n",
    ".rename(columns={'session_value':'mean_session_value'})\n",
    "mean_session_value_data"
   ]
  },
  {
   "cell_type": "markdown",
   "metadata": {},
   "source": [
    "# Глава 1.10"
   ]
  },
  {
   "cell_type": "code",
   "execution_count": 22,
   "metadata": {},
   "outputs": [
    {
     "data": {
      "text/html": [
       "<div>\n",
       "<style scoped>\n",
       "    .dataframe tbody tr th:only-of-type {\n",
       "        vertical-align: middle;\n",
       "    }\n",
       "\n",
       "    .dataframe tbody tr th {\n",
       "        vertical-align: top;\n",
       "    }\n",
       "\n",
       "    .dataframe thead th {\n",
       "        text-align: right;\n",
       "    }\n",
       "</style>\n",
       "<table border=\"1\" class=\"dataframe\">\n",
       "  <thead>\n",
       "    <tr style=\"text-align: right;\">\n",
       "      <th></th>\n",
       "      <th>step_id</th>\n",
       "      <th>timestamp</th>\n",
       "      <th>action</th>\n",
       "      <th>user_id</th>\n",
       "    </tr>\n",
       "  </thead>\n",
       "  <tbody>\n",
       "    <tr>\n",
       "      <th>0</th>\n",
       "      <td>32815</td>\n",
       "      <td>1434340848</td>\n",
       "      <td>viewed</td>\n",
       "      <td>17632</td>\n",
       "    </tr>\n",
       "    <tr>\n",
       "      <th>1</th>\n",
       "      <td>32815</td>\n",
       "      <td>1434340848</td>\n",
       "      <td>passed</td>\n",
       "      <td>17632</td>\n",
       "    </tr>\n",
       "    <tr>\n",
       "      <th>2</th>\n",
       "      <td>32815</td>\n",
       "      <td>1434340848</td>\n",
       "      <td>discovered</td>\n",
       "      <td>17632</td>\n",
       "    </tr>\n",
       "    <tr>\n",
       "      <th>3</th>\n",
       "      <td>32811</td>\n",
       "      <td>1434340895</td>\n",
       "      <td>discovered</td>\n",
       "      <td>17632</td>\n",
       "    </tr>\n",
       "    <tr>\n",
       "      <th>4</th>\n",
       "      <td>32811</td>\n",
       "      <td>1434340895</td>\n",
       "      <td>viewed</td>\n",
       "      <td>17632</td>\n",
       "    </tr>\n",
       "  </tbody>\n",
       "</table>\n",
       "</div>"
      ],
      "text/plain": [
       "   step_id   timestamp      action  user_id\n",
       "0    32815  1434340848      viewed    17632\n",
       "1    32815  1434340848      passed    17632\n",
       "2    32815  1434340848  discovered    17632\n",
       "3    32811  1434340895  discovered    17632\n",
       "4    32811  1434340895      viewed    17632"
      ]
     },
     "execution_count": 22,
     "metadata": {},
     "output_type": "execute_result"
    }
   ],
   "source": [
    "events_data = pd.read_csv('event_data_train.csv')\n",
    "events_data.head()"
   ]
  },
  {
   "cell_type": "code",
   "execution_count": 23,
   "metadata": {},
   "outputs": [
    {
     "data": {
      "text/plain": [
       "step_id       int64\n",
       "timestamp     int64\n",
       "action       object\n",
       "user_id       int64\n",
       "dtype: object"
      ]
     },
     "execution_count": 23,
     "metadata": {},
     "output_type": "execute_result"
    }
   ],
   "source": [
    "events_data.dtypes"
   ]
  },
  {
   "cell_type": "code",
   "execution_count": 24,
   "metadata": {},
   "outputs": [
    {
     "data": {
      "text/plain": [
       "step_id      3480703\n",
       "timestamp    3480703\n",
       "action       3480703\n",
       "user_id      3480703\n",
       "dtype: int64"
      ]
     },
     "execution_count": 24,
     "metadata": {},
     "output_type": "execute_result"
    }
   ],
   "source": [
    "events_data.count()"
   ]
  },
  {
   "cell_type": "code",
   "execution_count": 25,
   "metadata": {},
   "outputs": [
    {
     "name": "stdout",
     "output_type": "stream",
     "text": [
      "<class 'pandas.core.frame.DataFrame'>\n",
      "RangeIndex: 3480703 entries, 0 to 3480702\n",
      "Data columns (total 4 columns):\n",
      " #   Column     Dtype \n",
      "---  ------     ----- \n",
      " 0   step_id    int64 \n",
      " 1   timestamp  int64 \n",
      " 2   action     object\n",
      " 3   user_id    int64 \n",
      "dtypes: int64(3), object(1)\n",
      "memory usage: 106.2+ MB\n"
     ]
    }
   ],
   "source": [
    "events_data.info()"
   ]
  },
  {
   "cell_type": "code",
   "execution_count": 26,
   "metadata": {},
   "outputs": [
    {
     "data": {
      "text/html": [
       "<div>\n",
       "<style scoped>\n",
       "    .dataframe tbody tr th:only-of-type {\n",
       "        vertical-align: middle;\n",
       "    }\n",
       "\n",
       "    .dataframe tbody tr th {\n",
       "        vertical-align: top;\n",
       "    }\n",
       "\n",
       "    .dataframe thead th {\n",
       "        text-align: right;\n",
       "    }\n",
       "</style>\n",
       "<table border=\"1\" class=\"dataframe\">\n",
       "  <thead>\n",
       "    <tr style=\"text-align: right;\">\n",
       "      <th></th>\n",
       "      <th>step_id</th>\n",
       "      <th>timestamp</th>\n",
       "      <th>action</th>\n",
       "      <th>user_id</th>\n",
       "      <th>date</th>\n",
       "    </tr>\n",
       "  </thead>\n",
       "  <tbody>\n",
       "    <tr>\n",
       "      <th>0</th>\n",
       "      <td>32815</td>\n",
       "      <td>1434340848</td>\n",
       "      <td>viewed</td>\n",
       "      <td>17632</td>\n",
       "      <td>2015-06-15 04:00:48</td>\n",
       "    </tr>\n",
       "    <tr>\n",
       "      <th>1</th>\n",
       "      <td>32815</td>\n",
       "      <td>1434340848</td>\n",
       "      <td>passed</td>\n",
       "      <td>17632</td>\n",
       "      <td>2015-06-15 04:00:48</td>\n",
       "    </tr>\n",
       "    <tr>\n",
       "      <th>2</th>\n",
       "      <td>32815</td>\n",
       "      <td>1434340848</td>\n",
       "      <td>discovered</td>\n",
       "      <td>17632</td>\n",
       "      <td>2015-06-15 04:00:48</td>\n",
       "    </tr>\n",
       "    <tr>\n",
       "      <th>3</th>\n",
       "      <td>32811</td>\n",
       "      <td>1434340895</td>\n",
       "      <td>discovered</td>\n",
       "      <td>17632</td>\n",
       "      <td>2015-06-15 04:01:35</td>\n",
       "    </tr>\n",
       "    <tr>\n",
       "      <th>4</th>\n",
       "      <td>32811</td>\n",
       "      <td>1434340895</td>\n",
       "      <td>viewed</td>\n",
       "      <td>17632</td>\n",
       "      <td>2015-06-15 04:01:35</td>\n",
       "    </tr>\n",
       "  </tbody>\n",
       "</table>\n",
       "</div>"
      ],
      "text/plain": [
       "   step_id   timestamp      action  user_id                date\n",
       "0    32815  1434340848      viewed    17632 2015-06-15 04:00:48\n",
       "1    32815  1434340848      passed    17632 2015-06-15 04:00:48\n",
       "2    32815  1434340848  discovered    17632 2015-06-15 04:00:48\n",
       "3    32811  1434340895  discovered    17632 2015-06-15 04:01:35\n",
       "4    32811  1434340895      viewed    17632 2015-06-15 04:01:35"
      ]
     },
     "execution_count": 26,
     "metadata": {},
     "output_type": "execute_result"
    }
   ],
   "source": [
    "events_data['date'] = pd.to_datetime(events_data.timestamp, unit='s')\n",
    "events_data.head()"
   ]
  },
  {
   "cell_type": "code",
   "execution_count": 27,
   "metadata": {},
   "outputs": [],
   "source": [
    "events_data['day'] = events_data.date.dt.date"
   ]
  },
  {
   "cell_type": "code",
   "execution_count": 28,
   "metadata": {},
   "outputs": [
    {
     "data": {
      "text/html": [
       "<div>\n",
       "<style scoped>\n",
       "    .dataframe tbody tr th:only-of-type {\n",
       "        vertical-align: middle;\n",
       "    }\n",
       "\n",
       "    .dataframe tbody tr th {\n",
       "        vertical-align: top;\n",
       "    }\n",
       "\n",
       "    .dataframe thead th {\n",
       "        text-align: right;\n",
       "    }\n",
       "</style>\n",
       "<table border=\"1\" class=\"dataframe\">\n",
       "  <thead>\n",
       "    <tr style=\"text-align: right;\">\n",
       "      <th></th>\n",
       "      <th>step_id</th>\n",
       "      <th>timestamp</th>\n",
       "      <th>action</th>\n",
       "      <th>user_id</th>\n",
       "      <th>date</th>\n",
       "      <th>day</th>\n",
       "    </tr>\n",
       "  </thead>\n",
       "  <tbody>\n",
       "    <tr>\n",
       "      <th>0</th>\n",
       "      <td>32815</td>\n",
       "      <td>1434340848</td>\n",
       "      <td>viewed</td>\n",
       "      <td>17632</td>\n",
       "      <td>2015-06-15 04:00:48</td>\n",
       "      <td>2015-06-15</td>\n",
       "    </tr>\n",
       "    <tr>\n",
       "      <th>1</th>\n",
       "      <td>32815</td>\n",
       "      <td>1434340848</td>\n",
       "      <td>passed</td>\n",
       "      <td>17632</td>\n",
       "      <td>2015-06-15 04:00:48</td>\n",
       "      <td>2015-06-15</td>\n",
       "    </tr>\n",
       "    <tr>\n",
       "      <th>2</th>\n",
       "      <td>32815</td>\n",
       "      <td>1434340848</td>\n",
       "      <td>discovered</td>\n",
       "      <td>17632</td>\n",
       "      <td>2015-06-15 04:00:48</td>\n",
       "      <td>2015-06-15</td>\n",
       "    </tr>\n",
       "    <tr>\n",
       "      <th>3</th>\n",
       "      <td>32811</td>\n",
       "      <td>1434340895</td>\n",
       "      <td>discovered</td>\n",
       "      <td>17632</td>\n",
       "      <td>2015-06-15 04:01:35</td>\n",
       "      <td>2015-06-15</td>\n",
       "    </tr>\n",
       "    <tr>\n",
       "      <th>4</th>\n",
       "      <td>32811</td>\n",
       "      <td>1434340895</td>\n",
       "      <td>viewed</td>\n",
       "      <td>17632</td>\n",
       "      <td>2015-06-15 04:01:35</td>\n",
       "      <td>2015-06-15</td>\n",
       "    </tr>\n",
       "  </tbody>\n",
       "</table>\n",
       "</div>"
      ],
      "text/plain": [
       "   step_id   timestamp      action  user_id                date         day\n",
       "0    32815  1434340848      viewed    17632 2015-06-15 04:00:48  2015-06-15\n",
       "1    32815  1434340848      passed    17632 2015-06-15 04:00:48  2015-06-15\n",
       "2    32815  1434340848  discovered    17632 2015-06-15 04:00:48  2015-06-15\n",
       "3    32811  1434340895  discovered    17632 2015-06-15 04:01:35  2015-06-15\n",
       "4    32811  1434340895      viewed    17632 2015-06-15 04:01:35  2015-06-15"
      ]
     },
     "execution_count": 28,
     "metadata": {},
     "output_type": "execute_result"
    }
   ],
   "source": [
    "events_data.head()"
   ]
  },
  {
   "cell_type": "code",
   "execution_count": 29,
   "metadata": {},
   "outputs": [
    {
     "data": {
      "text/plain": [
       "19234"
      ]
     },
     "execution_count": 29,
     "metadata": {},
     "output_type": "execute_result"
    }
   ],
   "source": [
    "events_data.user_id.nunique()"
   ]
  },
  {
   "cell_type": "code",
   "execution_count": 30,
   "metadata": {},
   "outputs": [
    {
     "data": {
      "text/plain": [
       "17262"
      ]
     },
     "execution_count": 30,
     "metadata": {},
     "output_type": "execute_result"
    }
   ],
   "source": [
    "events_data.user_id[events_data.action == 'passed'].nunique()"
   ]
  },
  {
   "cell_type": "code",
   "execution_count": 31,
   "metadata": {},
   "outputs": [
    {
     "data": {
      "text/html": [
       "<div>\n",
       "<style scoped>\n",
       "    .dataframe tbody tr th:only-of-type {\n",
       "        vertical-align: middle;\n",
       "    }\n",
       "\n",
       "    .dataframe tbody tr th {\n",
       "        vertical-align: top;\n",
       "    }\n",
       "\n",
       "    .dataframe thead th {\n",
       "        text-align: right;\n",
       "    }\n",
       "</style>\n",
       "<table border=\"1\" class=\"dataframe\">\n",
       "  <thead>\n",
       "    <tr style=\"text-align: right;\">\n",
       "      <th></th>\n",
       "      <th>action</th>\n",
       "      <th>user_id</th>\n",
       "      <th>actions_number</th>\n",
       "    </tr>\n",
       "  </thead>\n",
       "  <tbody>\n",
       "    <tr>\n",
       "      <th>62889</th>\n",
       "      <td>viewed</td>\n",
       "      <td>20907</td>\n",
       "      <td>32778</td>\n",
       "    </tr>\n",
       "    <tr>\n",
       "      <th>55665</th>\n",
       "      <td>viewed</td>\n",
       "      <td>10794</td>\n",
       "      <td>16089</td>\n",
       "    </tr>\n",
       "    <tr>\n",
       "      <th>66032</th>\n",
       "      <td>viewed</td>\n",
       "      <td>25279</td>\n",
       "      <td>9693</td>\n",
       "    </tr>\n",
       "    <tr>\n",
       "      <th>48669</th>\n",
       "      <td>viewed</td>\n",
       "      <td>1046</td>\n",
       "      <td>8122</td>\n",
       "    </tr>\n",
       "    <tr>\n",
       "      <th>50497</th>\n",
       "      <td>viewed</td>\n",
       "      <td>3572</td>\n",
       "      <td>6968</td>\n",
       "    </tr>\n",
       "  </tbody>\n",
       "</table>\n",
       "</div>"
      ],
      "text/plain": [
       "       action  user_id  actions_number\n",
       "62889  viewed    20907           32778\n",
       "55665  viewed    10794           16089\n",
       "66032  viewed    25279            9693\n",
       "48669  viewed     1046            8122\n",
       "50497  viewed     3572            6968"
      ]
     },
     "execution_count": 31,
     "metadata": {},
     "output_type": "execute_result"
    }
   ],
   "source": [
    "events_stats = events_data\\\n",
    ".groupby(['action', 'user_id'], as_index=False)\\\n",
    ".agg({'step_id':'count'})\\\n",
    ".sort_values(['action','step_id'], ascending=False)\\\n",
    ".rename(columns={'step_id':'actions_number'})\n",
    "\n",
    "events_stats.head()"
   ]
  },
  {
   "cell_type": "code",
   "execution_count": 32,
   "metadata": {},
   "outputs": [
    {
     "data": {
      "text/html": [
       "<div>\n",
       "<style scoped>\n",
       "    .dataframe tbody tr th:only-of-type {\n",
       "        vertical-align: middle;\n",
       "    }\n",
       "\n",
       "    .dataframe tbody tr th {\n",
       "        vertical-align: top;\n",
       "    }\n",
       "\n",
       "    .dataframe thead th {\n",
       "        text-align: right;\n",
       "    }\n",
       "</style>\n",
       "<table border=\"1\" class=\"dataframe\">\n",
       "  <thead>\n",
       "    <tr style=\"text-align: right;\">\n",
       "      <th></th>\n",
       "      <th>count</th>\n",
       "      <th>mean</th>\n",
       "      <th>std</th>\n",
       "      <th>min</th>\n",
       "      <th>25%</th>\n",
       "      <th>50%</th>\n",
       "      <th>75%</th>\n",
       "      <th>max</th>\n",
       "    </tr>\n",
       "    <tr>\n",
       "      <th>action</th>\n",
       "      <th></th>\n",
       "      <th></th>\n",
       "      <th></th>\n",
       "      <th></th>\n",
       "      <th></th>\n",
       "      <th></th>\n",
       "      <th></th>\n",
       "      <th></th>\n",
       "    </tr>\n",
       "  </thead>\n",
       "  <tbody>\n",
       "    <tr>\n",
       "      <th>discovered</th>\n",
       "      <td>19226.0</td>\n",
       "      <td>35.862634</td>\n",
       "      <td>56.583244</td>\n",
       "      <td>1.0</td>\n",
       "      <td>1.0</td>\n",
       "      <td>9.0</td>\n",
       "      <td>42.0</td>\n",
       "      <td>198.0</td>\n",
       "    </tr>\n",
       "    <tr>\n",
       "      <th>passed</th>\n",
       "      <td>17262.0</td>\n",
       "      <td>37.674140</td>\n",
       "      <td>56.716672</td>\n",
       "      <td>1.0</td>\n",
       "      <td>1.0</td>\n",
       "      <td>10.0</td>\n",
       "      <td>46.0</td>\n",
       "      <td>198.0</td>\n",
       "    </tr>\n",
       "    <tr>\n",
       "      <th>started_attempt</th>\n",
       "      <td>11400.0</td>\n",
       "      <td>27.197105</td>\n",
       "      <td>36.692031</td>\n",
       "      <td>1.0</td>\n",
       "      <td>2.0</td>\n",
       "      <td>10.0</td>\n",
       "      <td>36.0</td>\n",
       "      <td>721.0</td>\n",
       "    </tr>\n",
       "    <tr>\n",
       "      <th>viewed</th>\n",
       "      <td>19227.0</td>\n",
       "      <td>95.221823</td>\n",
       "      <td>346.381604</td>\n",
       "      <td>1.0</td>\n",
       "      <td>1.0</td>\n",
       "      <td>12.0</td>\n",
       "      <td>89.0</td>\n",
       "      <td>32778.0</td>\n",
       "    </tr>\n",
       "  </tbody>\n",
       "</table>\n",
       "</div>"
      ],
      "text/plain": [
       "                   count       mean         std  min  25%   50%   75%      max\n",
       "action                                                                        \n",
       "discovered       19226.0  35.862634   56.583244  1.0  1.0   9.0  42.0    198.0\n",
       "passed           17262.0  37.674140   56.716672  1.0  1.0  10.0  46.0    198.0\n",
       "started_attempt  11400.0  27.197105   36.692031  1.0  2.0  10.0  36.0    721.0\n",
       "viewed           19227.0  95.221823  346.381604  1.0  1.0  12.0  89.0  32778.0"
      ]
     },
     "execution_count": 32,
     "metadata": {},
     "output_type": "execute_result"
    }
   ],
   "source": [
    "events_stats.groupby('action').actions_number.describe()"
   ]
  },
  {
   "cell_type": "code",
   "execution_count": 33,
   "metadata": {},
   "outputs": [
    {
     "data": {
      "text/plain": [
       "{'discovered': 198.0,\n",
       " 'passed': 198.0,\n",
       " 'started_attempt': 137.0,\n",
       " 'viewed': 899.7400000000016}"
      ]
     },
     "execution_count": 33,
     "metadata": {},
     "output_type": "execute_result"
    }
   ],
   "source": [
    "quantile_0_99 = events_stats.groupby('action').actions_number.quantile(0.99).to_dict()\n",
    "quantile_0_99"
   ]
  },
  {
   "cell_type": "code",
   "execution_count": 34,
   "metadata": {},
   "outputs": [
    {
     "data": {
      "image/png": "[encoded data removed]",
      "text/plain": [
       "<Figure size 864x720 with 4 Axes>"
      ]
     },
     "metadata": {
      "needs_background": "light"
     },
     "output_type": "display_data"
    }
   ],
   "source": [
    "ax = events_stats\\\n",
    ".actions_number\\\n",
    ".hist(by=events_stats['action'], bins=50, figsize=(12,10))"
   ]
  },
  {
   "cell_type": "code",
   "execution_count": 35,
   "metadata": {},
   "outputs": [],
   "source": [
    "events_stats['quantile_0_99'] = events_stats.action.apply(lambda x: quantile_0_99[x])"
   ]
  },
  {
   "cell_type": "code",
   "execution_count": 36,
   "metadata": {},
   "outputs": [
    {
     "data": {
      "image/png": "[encoded data removed]",
      "text/plain": [
       "<Figure size 864x720 with 4 Axes>"
      ]
     },
     "metadata": {
      "needs_background": "light"
     },
     "output_type": "display_data"
    }
   ],
   "source": [
    "ax = events_stats\\\n",
    ".query('~( (actions_number > quantile_0_99) & (action in [\"started_attempt\", \"viewed\"]) )')\\\n",
    ".actions_number\\\n",
    ".hist(by=events_stats['action'], bins=50, figsize=(12,10))"
   ]
  },
  {
   "cell_type": "code",
   "execution_count": 37,
   "metadata": {},
   "outputs": [
    {
     "data": {
      "text/html": [
       "<div>\n",
       "<style scoped>\n",
       "    .dataframe tbody tr th:only-of-type {\n",
       "        vertical-align: middle;\n",
       "    }\n",
       "\n",
       "    .dataframe tbody tr th {\n",
       "        vertical-align: top;\n",
       "    }\n",
       "\n",
       "    .dataframe thead th {\n",
       "        text-align: right;\n",
       "    }\n",
       "</style>\n",
       "<table border=\"1\" class=\"dataframe\">\n",
       "  <thead>\n",
       "    <tr style=\"text-align: right;\">\n",
       "      <th>action</th>\n",
       "      <th>discovered</th>\n",
       "      <th>passed</th>\n",
       "      <th>started_attempt</th>\n",
       "      <th>viewed</th>\n",
       "    </tr>\n",
       "    <tr>\n",
       "      <th>user_id</th>\n",
       "      <th></th>\n",
       "      <th></th>\n",
       "      <th></th>\n",
       "      <th></th>\n",
       "    </tr>\n",
       "  </thead>\n",
       "  <tbody>\n",
       "    <tr>\n",
       "      <th>1</th>\n",
       "      <td>1</td>\n",
       "      <td>0</td>\n",
       "      <td>0</td>\n",
       "      <td>1</td>\n",
       "    </tr>\n",
       "    <tr>\n",
       "      <th>2</th>\n",
       "      <td>9</td>\n",
       "      <td>9</td>\n",
       "      <td>2</td>\n",
       "      <td>10</td>\n",
       "    </tr>\n",
       "    <tr>\n",
       "      <th>3</th>\n",
       "      <td>91</td>\n",
       "      <td>87</td>\n",
       "      <td>30</td>\n",
       "      <td>192</td>\n",
       "    </tr>\n",
       "    <tr>\n",
       "      <th>5</th>\n",
       "      <td>11</td>\n",
       "      <td>11</td>\n",
       "      <td>4</td>\n",
       "      <td>12</td>\n",
       "    </tr>\n",
       "    <tr>\n",
       "      <th>7</th>\n",
       "      <td>1</td>\n",
       "      <td>1</td>\n",
       "      <td>0</td>\n",
       "      <td>1</td>\n",
       "    </tr>\n",
       "  </tbody>\n",
       "</table>\n",
       "</div>"
      ],
      "text/plain": [
       "action   discovered  passed  started_attempt  viewed\n",
       "user_id                                             \n",
       "1                 1       0                0       1\n",
       "2                 9       9                2      10\n",
       "3                91      87               30     192\n",
       "5                11      11                4      12\n",
       "7                 1       1                0       1"
      ]
     },
     "execution_count": 37,
     "metadata": {},
     "output_type": "execute_result"
    }
   ],
   "source": [
    "events_data\\\n",
    ".pivot_table(index='user_id', columns='action', values='step_id', aggfunc='count', fill_value=0)\\\n",
    ".head()"
   ]
  },
  {
   "cell_type": "code",
   "execution_count": 38,
   "metadata": {},
   "outputs": [
    {
     "data": {
      "text/plain": [
       "array([[<matplotlib.axes._subplots.AxesSubplot object at 0x75d781ec10>,\n",
       "        <matplotlib.axes._subplots.AxesSubplot object at 0x75b40b0fa0>],\n",
       "       [<matplotlib.axes._subplots.AxesSubplot object at 0x75babfa310>,\n",
       "        <matplotlib.axes._subplots.AxesSubplot object at 0x75bb02ea90>]],\n",
       "      dtype=object)"
      ]
     },
     "execution_count": 38,
     "metadata": {},
     "output_type": "execute_result"
    },
    {
     "data": {
      "image/png": "[encoded data removed]",
      "text/plain": [
       "<Figure size 864x720 with 4 Axes>"
      ]
     },
     "metadata": {
      "needs_background": "light"
     },
     "output_type": "display_data"
    }
   ],
   "source": [
    "events_data\\\n",
    ".pivot_table(index='user_id', columns='action', values='step_id', aggfunc='count', fill_value=0)\\\n",
    ".hist(bins=50, figsize=(12,10))"
   ]
  },
  {
   "cell_type": "code",
   "execution_count": 39,
   "metadata": {},
   "outputs": [
    {
     "data": {
      "text/html": [
       "<div>\n",
       "<style scoped>\n",
       "    .dataframe tbody tr th:only-of-type {\n",
       "        vertical-align: middle;\n",
       "    }\n",
       "\n",
       "    .dataframe tbody tr th {\n",
       "        vertical-align: top;\n",
       "    }\n",
       "\n",
       "    .dataframe thead th {\n",
       "        text-align: right;\n",
       "    }\n",
       "</style>\n",
       "<table border=\"1\" class=\"dataframe\">\n",
       "  <thead>\n",
       "    <tr style=\"text-align: right;\">\n",
       "      <th></th>\n",
       "      <th>step_id</th>\n",
       "      <th>timestamp</th>\n",
       "      <th>action</th>\n",
       "      <th>user_id</th>\n",
       "      <th>date</th>\n",
       "      <th>day</th>\n",
       "    </tr>\n",
       "  </thead>\n",
       "  <tbody>\n",
       "    <tr>\n",
       "      <th>0</th>\n",
       "      <td>32815</td>\n",
       "      <td>1434340848</td>\n",
       "      <td>viewed</td>\n",
       "      <td>17632</td>\n",
       "      <td>2015-06-15 04:00:48</td>\n",
       "      <td>2015-06-15</td>\n",
       "    </tr>\n",
       "    <tr>\n",
       "      <th>1</th>\n",
       "      <td>32815</td>\n",
       "      <td>1434340848</td>\n",
       "      <td>passed</td>\n",
       "      <td>17632</td>\n",
       "      <td>2015-06-15 04:00:48</td>\n",
       "      <td>2015-06-15</td>\n",
       "    </tr>\n",
       "    <tr>\n",
       "      <th>2</th>\n",
       "      <td>32815</td>\n",
       "      <td>1434340848</td>\n",
       "      <td>discovered</td>\n",
       "      <td>17632</td>\n",
       "      <td>2015-06-15 04:00:48</td>\n",
       "      <td>2015-06-15</td>\n",
       "    </tr>\n",
       "    <tr>\n",
       "      <th>3</th>\n",
       "      <td>32811</td>\n",
       "      <td>1434340895</td>\n",
       "      <td>discovered</td>\n",
       "      <td>17632</td>\n",
       "      <td>2015-06-15 04:01:35</td>\n",
       "      <td>2015-06-15</td>\n",
       "    </tr>\n",
       "    <tr>\n",
       "      <th>4</th>\n",
       "      <td>32811</td>\n",
       "      <td>1434340895</td>\n",
       "      <td>viewed</td>\n",
       "      <td>17632</td>\n",
       "      <td>2015-06-15 04:01:35</td>\n",
       "      <td>2015-06-15</td>\n",
       "    </tr>\n",
       "  </tbody>\n",
       "</table>\n",
       "</div>"
      ],
      "text/plain": [
       "   step_id   timestamp      action  user_id                date         day\n",
       "0    32815  1434340848      viewed    17632 2015-06-15 04:00:48  2015-06-15\n",
       "1    32815  1434340848      passed    17632 2015-06-15 04:00:48  2015-06-15\n",
       "2    32815  1434340848  discovered    17632 2015-06-15 04:00:48  2015-06-15\n",
       "3    32811  1434340895  discovered    17632 2015-06-15 04:01:35  2015-06-15\n",
       "4    32811  1434340895      viewed    17632 2015-06-15 04:01:35  2015-06-15"
      ]
     },
     "execution_count": 39,
     "metadata": {},
     "output_type": "execute_result"
    }
   ],
   "source": [
    "events_data.head()"
   ]
  },
  {
   "cell_type": "code",
   "execution_count": 47,
   "metadata": {},
   "outputs": [
    {
     "data": {
      "text/html": [
       "<div>\n",
       "<style scoped>\n",
       "    .dataframe tbody tr th:only-of-type {\n",
       "        vertical-align: middle;\n",
       "    }\n",
       "\n",
       "    .dataframe tbody tr th {\n",
       "        vertical-align: top;\n",
       "    }\n",
       "\n",
       "    .dataframe thead th {\n",
       "        text-align: right;\n",
       "    }\n",
       "</style>\n",
       "<table border=\"1\" class=\"dataframe\">\n",
       "  <thead>\n",
       "    <tr style=\"text-align: right;\">\n",
       "      <th></th>\n",
       "      <th>step_id</th>\n",
       "      <th>timestamp</th>\n",
       "      <th>action</th>\n",
       "      <th>user_id</th>\n",
       "      <th>date</th>\n",
       "      <th>dateyear</th>\n",
       "    </tr>\n",
       "  </thead>\n",
       "  <tbody>\n",
       "    <tr>\n",
       "      <th>0</th>\n",
       "      <td>32815</td>\n",
       "      <td>1434340848</td>\n",
       "      <td>viewed</td>\n",
       "      <td>17632</td>\n",
       "      <td>2015-06-15 04:00:48</td>\n",
       "      <td>2015</td>\n",
       "    </tr>\n",
       "    <tr>\n",
       "      <th>1</th>\n",
       "      <td>32815</td>\n",
       "      <td>1434340848</td>\n",
       "      <td>passed</td>\n",
       "      <td>17632</td>\n",
       "      <td>2015-06-15 04:00:48</td>\n",
       "      <td>2015</td>\n",
       "    </tr>\n",
       "    <tr>\n",
       "      <th>2</th>\n",
       "      <td>32815</td>\n",
       "      <td>1434340848</td>\n",
       "      <td>discovered</td>\n",
       "      <td>17632</td>\n",
       "      <td>2015-06-15 04:00:48</td>\n",
       "      <td>2015</td>\n",
       "    </tr>\n",
       "    <tr>\n",
       "      <th>3</th>\n",
       "      <td>32811</td>\n",
       "      <td>1434340895</td>\n",
       "      <td>discovered</td>\n",
       "      <td>17632</td>\n",
       "      <td>2015-06-15 04:01:35</td>\n",
       "      <td>2015</td>\n",
       "    </tr>\n",
       "    <tr>\n",
       "      <th>4</th>\n",
       "      <td>32811</td>\n",
       "      <td>1434340895</td>\n",
       "      <td>viewed</td>\n",
       "      <td>17632</td>\n",
       "      <td>2015-06-15 04:01:35</td>\n",
       "      <td>2015</td>\n",
       "    </tr>\n",
       "  </tbody>\n",
       "</table>\n",
       "</div>"
      ],
      "text/plain": [
       "   step_id   timestamp      action  user_id                date  dateyear\n",
       "0    32815  1434340848      viewed    17632 2015-06-15 04:00:48      2015\n",
       "1    32815  1434340848      passed    17632 2015-06-15 04:00:48      2015\n",
       "2    32815  1434340848  discovered    17632 2015-06-15 04:00:48      2015\n",
       "3    32811  1434340895  discovered    17632 2015-06-15 04:01:35      2015\n",
       "4    32811  1434340895      viewed    17632 2015-06-15 04:01:35      2015"
      ]
     },
     "execution_count": 47,
     "metadata": {},
     "output_type": "execute_result"
    }
   ],
   "source": [
    "events_data.drop(columns=['day']).head()"
   ]
  },
  {
   "cell_type": "code",
   "execution_count": 55,
   "metadata": {},
   "outputs": [],
   "source": [
    "def extract_date(df, column):\n",
    "    df[f'{column} year'] = df[column].apply(lambda x:x.year)\n",
    "    df[f'{column} month'] = df[column].apply(lambda x:x.month)"
   ]
  },
  {
   "cell_type": "code",
   "execution_count": 56,
   "metadata": {},
   "outputs": [
    {
     "data": {
      "text/html": [
       "<div>\n",
       "<style scoped>\n",
       "    .dataframe tbody tr th:only-of-type {\n",
       "        vertical-align: middle;\n",
       "    }\n",
       "\n",
       "    .dataframe tbody tr th {\n",
       "        vertical-align: top;\n",
       "    }\n",
       "\n",
       "    .dataframe thead th {\n",
       "        text-align: right;\n",
       "    }\n",
       "</style>\n",
       "<table border=\"1\" class=\"dataframe\">\n",
       "  <thead>\n",
       "    <tr style=\"text-align: right;\">\n",
       "      <th></th>\n",
       "      <th>step_id</th>\n",
       "      <th>timestamp</th>\n",
       "      <th>action</th>\n",
       "      <th>user_id</th>\n",
       "      <th>date</th>\n",
       "      <th>day</th>\n",
       "      <th>dateyear</th>\n",
       "      <th>datemonth</th>\n",
       "      <th>date year</th>\n",
       "      <th>date month</th>\n",
       "    </tr>\n",
       "  </thead>\n",
       "  <tbody>\n",
       "    <tr>\n",
       "      <th>0</th>\n",
       "      <td>32815</td>\n",
       "      <td>1434340848</td>\n",
       "      <td>viewed</td>\n",
       "      <td>17632</td>\n",
       "      <td>2015-06-15 04:00:48</td>\n",
       "      <td>2015-06-15</td>\n",
       "      <td>2015</td>\n",
       "      <td>6</td>\n",
       "      <td>2015</td>\n",
       "      <td>6</td>\n",
       "    </tr>\n",
       "    <tr>\n",
       "      <th>1</th>\n",
       "      <td>32815</td>\n",
       "      <td>1434340848</td>\n",
       "      <td>passed</td>\n",
       "      <td>17632</td>\n",
       "      <td>2015-06-15 04:00:48</td>\n",
       "      <td>2015-06-15</td>\n",
       "      <td>2015</td>\n",
       "      <td>6</td>\n",
       "      <td>2015</td>\n",
       "      <td>6</td>\n",
       "    </tr>\n",
       "    <tr>\n",
       "      <th>2</th>\n",
       "      <td>32815</td>\n",
       "      <td>1434340848</td>\n",
       "      <td>discovered</td>\n",
       "      <td>17632</td>\n",
       "      <td>2015-06-15 04:00:48</td>\n",
       "      <td>2015-06-15</td>\n",
       "      <td>2015</td>\n",
       "      <td>6</td>\n",
       "      <td>2015</td>\n",
       "      <td>6</td>\n",
       "    </tr>\n",
       "    <tr>\n",
       "      <th>3</th>\n",
       "      <td>32811</td>\n",
       "      <td>1434340895</td>\n",
       "      <td>discovered</td>\n",
       "      <td>17632</td>\n",
       "      <td>2015-06-15 04:01:35</td>\n",
       "      <td>2015-06-15</td>\n",
       "      <td>2015</td>\n",
       "      <td>6</td>\n",
       "      <td>2015</td>\n",
       "      <td>6</td>\n",
       "    </tr>\n",
       "    <tr>\n",
       "      <th>4</th>\n",
       "      <td>32811</td>\n",
       "      <td>1434340895</td>\n",
       "      <td>viewed</td>\n",
       "      <td>17632</td>\n",
       "      <td>2015-06-15 04:01:35</td>\n",
       "      <td>2015-06-15</td>\n",
       "      <td>2015</td>\n",
       "      <td>6</td>\n",
       "      <td>2015</td>\n",
       "      <td>6</td>\n",
       "    </tr>\n",
       "  </tbody>\n",
       "</table>\n",
       "</div>"
      ],
      "text/plain": [
       "   step_id   timestamp      action  user_id                date         day  \\\n",
       "0    32815  1434340848      viewed    17632 2015-06-15 04:00:48  2015-06-15   \n",
       "1    32815  1434340848      passed    17632 2015-06-15 04:00:48  2015-06-15   \n",
       "2    32815  1434340848  discovered    17632 2015-06-15 04:00:48  2015-06-15   \n",
       "3    32811  1434340895  discovered    17632 2015-06-15 04:01:35  2015-06-15   \n",
       "4    32811  1434340895      viewed    17632 2015-06-15 04:01:35  2015-06-15   \n",
       "\n",
       "   dateyear  datemonth  date year  date month  \n",
       "0      2015          6       2015           6  \n",
       "1      2015          6       2015           6  \n",
       "2      2015          6       2015           6  \n",
       "3      2015          6       2015           6  \n",
       "4      2015          6       2015           6  "
      ]
     },
     "execution_count": 56,
     "metadata": {},
     "output_type": "execute_result"
    }
   ],
   "source": [
    "extract_date(events_data, 'date')"
   ]
  },
  {
   "cell_type": "code",
   "execution_count": 60,
   "metadata": {},
   "outputs": [
    {
     "data": {
      "text/html": [
       "<div>\n",
       "<style scoped>\n",
       "    .dataframe tbody tr th:only-of-type {\n",
       "        vertical-align: middle;\n",
       "    }\n",
       "\n",
       "    .dataframe tbody tr th {\n",
       "        vertical-align: top;\n",
       "    }\n",
       "\n",
       "    .dataframe thead th {\n",
       "        text-align: right;\n",
       "    }\n",
       "</style>\n",
       "<table border=\"1\" class=\"dataframe\">\n",
       "  <thead>\n",
       "    <tr style=\"text-align: right;\">\n",
       "      <th></th>\n",
       "      <th>step_id</th>\n",
       "      <th>timestamp</th>\n",
       "      <th>action</th>\n",
       "      <th>user_id</th>\n",
       "      <th>date</th>\n",
       "      <th>day</th>\n",
       "      <th>dateyear</th>\n",
       "      <th>datemonth</th>\n",
       "      <th>date year</th>\n",
       "      <th>date month</th>\n",
       "    </tr>\n",
       "  </thead>\n",
       "  <tbody>\n",
       "    <tr>\n",
       "      <th>0</th>\n",
       "      <td>32815</td>\n",
       "      <td>1434340848</td>\n",
       "      <td>viewed</td>\n",
       "      <td>17632</td>\n",
       "      <td>2015-06-15 04:00:48</td>\n",
       "      <td>2015-06-15</td>\n",
       "      <td>2015</td>\n",
       "      <td>6</td>\n",
       "      <td>2015</td>\n",
       "      <td>6</td>\n",
       "    </tr>\n",
       "    <tr>\n",
       "      <th>1</th>\n",
       "      <td>32815</td>\n",
       "      <td>1434340848</td>\n",
       "      <td>passed</td>\n",
       "      <td>17632</td>\n",
       "      <td>2015-06-15 04:00:48</td>\n",
       "      <td>2015-06-15</td>\n",
       "      <td>2015</td>\n",
       "      <td>6</td>\n",
       "      <td>2015</td>\n",
       "      <td>6</td>\n",
       "    </tr>\n",
       "    <tr>\n",
       "      <th>2</th>\n",
       "      <td>32815</td>\n",
       "      <td>1434340848</td>\n",
       "      <td>discovered</td>\n",
       "      <td>17632</td>\n",
       "      <td>2015-06-15 04:00:48</td>\n",
       "      <td>2015-06-15</td>\n",
       "      <td>2015</td>\n",
       "      <td>6</td>\n",
       "      <td>2015</td>\n",
       "      <td>6</td>\n",
       "    </tr>\n",
       "    <tr>\n",
       "      <th>3</th>\n",
       "      <td>32811</td>\n",
       "      <td>1434340895</td>\n",
       "      <td>discovered</td>\n",
       "      <td>17632</td>\n",
       "      <td>2015-06-15 04:01:35</td>\n",
       "      <td>2015-06-15</td>\n",
       "      <td>2015</td>\n",
       "      <td>6</td>\n",
       "      <td>2015</td>\n",
       "      <td>6</td>\n",
       "    </tr>\n",
       "    <tr>\n",
       "      <th>4</th>\n",
       "      <td>32811</td>\n",
       "      <td>1434340895</td>\n",
       "      <td>viewed</td>\n",
       "      <td>17632</td>\n",
       "      <td>2015-06-15 04:01:35</td>\n",
       "      <td>2015-06-15</td>\n",
       "      <td>2015</td>\n",
       "      <td>6</td>\n",
       "      <td>2015</td>\n",
       "      <td>6</td>\n",
       "    </tr>\n",
       "  </tbody>\n",
       "</table>\n",
       "</div>"
      ],
      "text/plain": [
       "   step_id   timestamp      action  user_id                date         day  \\\n",
       "0    32815  1434340848      viewed    17632 2015-06-15 04:00:48  2015-06-15   \n",
       "1    32815  1434340848      passed    17632 2015-06-15 04:00:48  2015-06-15   \n",
       "2    32815  1434340848  discovered    17632 2015-06-15 04:00:48  2015-06-15   \n",
       "3    32811  1434340895  discovered    17632 2015-06-15 04:01:35  2015-06-15   \n",
       "4    32811  1434340895      viewed    17632 2015-06-15 04:01:35  2015-06-15   \n",
       "\n",
       "   dateyear  datemonth  date year  date month  \n",
       "0      2015          6       2015           6  \n",
       "1      2015          6       2015           6  \n",
       "2      2015          6       2015           6  \n",
       "3      2015          6       2015           6  \n",
       "4      2015          6       2015           6  "
      ]
     },
     "execution_count": 60,
     "metadata": {},
     "output_type": "execute_result"
    }
   ],
   "source": [
    "events_data.head()"
   ]
  },
  {
   "cell_type": "code",
   "execution_count": 63,
   "metadata": {},
   "outputs": [
    {
     "ename": "KeyError",
     "evalue": "\"None of ['date'] are in the columns\"",
     "output_type": "error",
     "traceback": [
      "\u001b[0;31m---------------------------------------------------------------------------\u001b[0m",
      "\u001b[0;31mKeyError\u001b[0m                                  Traceback (most recent call last)",
      "\u001b[0;32m<ipython-input-63-437665f93f8b>\u001b[0m in \u001b[0;36m<module>\u001b[0;34m\u001b[0m\n\u001b[0;32m----> 1\u001b[0;31m \u001b[0mevents_data\u001b[0m\u001b[0;34m.\u001b[0m\u001b[0mset_index\u001b[0m\u001b[0;34m(\u001b[0m\u001b[0;34m'date'\u001b[0m\u001b[0;34m,\u001b[0m \u001b[0minplace\u001b[0m\u001b[0;34m=\u001b[0m\u001b[0;32mTrue\u001b[0m\u001b[0;34m)\u001b[0m\u001b[0;34m\u001b[0m\u001b[0;34m\u001b[0m\u001b[0m\n\u001b[0m",
      "\u001b[0;32m/data/user/0/ru.iiec.pydroid3/files/aarch64-linux-android/lib/python3.8/site-packages/pandas/core/frame.py\u001b[0m in \u001b[0;36mset_index\u001b[0;34m(self, keys, drop, append, inplace, verify_integrity)\u001b[0m\n\u001b[1;32m   4301\u001b[0m \u001b[0;34m\u001b[0m\u001b[0m\n\u001b[1;32m   4302\u001b[0m         \u001b[0;32mif\u001b[0m \u001b[0mmissing\u001b[0m\u001b[0;34m:\u001b[0m\u001b[0;34m\u001b[0m\u001b[0;34m\u001b[0m\u001b[0m\n\u001b[0;32m-> 4303\u001b[0;31m             \u001b[0;32mraise\u001b[0m \u001b[0mKeyError\u001b[0m\u001b[0;34m(\u001b[0m\u001b[0;34mf\"None of {missing} are in the columns\"\u001b[0m\u001b[0;34m)\u001b[0m\u001b[0;34m\u001b[0m\u001b[0;34m\u001b[0m\u001b[0m\n\u001b[0m\u001b[1;32m   4304\u001b[0m \u001b[0;34m\u001b[0m\u001b[0m\n\u001b[1;32m   4305\u001b[0m         \u001b[0;32mif\u001b[0m \u001b[0minplace\u001b[0m\u001b[0;34m:\u001b[0m\u001b[0;34m\u001b[0m\u001b[0;34m\u001b[0m\u001b[0m\n",
      "\u001b[0;31mKeyError\u001b[0m: \"None of ['date'] are in the columns\""
     ]
    }
   ],
   "source": [
    "events_data.set_index('date', inplace=True)"
   ]
  },
  {
   "cell_type": "code",
   "execution_count": 64,
   "metadata": {},
   "outputs": [
    {
     "data": {
      "text/html": [
       "<div>\n",
       "<style scoped>\n",
       "    .dataframe tbody tr th:only-of-type {\n",
       "        vertical-align: middle;\n",
       "    }\n",
       "\n",
       "    .dataframe tbody tr th {\n",
       "        vertical-align: top;\n",
       "    }\n",
       "\n",
       "    .dataframe thead th {\n",
       "        text-align: right;\n",
       "    }\n",
       "</style>\n",
       "<table border=\"1\" class=\"dataframe\">\n",
       "  <thead>\n",
       "    <tr style=\"text-align: right;\">\n",
       "      <th></th>\n",
       "      <th>step_id</th>\n",
       "      <th>timestamp</th>\n",
       "      <th>action</th>\n",
       "      <th>user_id</th>\n",
       "      <th>day</th>\n",
       "      <th>dateyear</th>\n",
       "      <th>datemonth</th>\n",
       "      <th>date year</th>\n",
       "      <th>date month</th>\n",
       "    </tr>\n",
       "    <tr>\n",
       "      <th>date</th>\n",
       "      <th></th>\n",
       "      <th></th>\n",
       "      <th></th>\n",
       "      <th></th>\n",
       "      <th></th>\n",
       "      <th></th>\n",
       "      <th></th>\n",
       "      <th></th>\n",
       "      <th></th>\n",
       "    </tr>\n",
       "  </thead>\n",
       "  <tbody>\n",
       "    <tr>\n",
       "      <th>2015-06-15 04:00:48</th>\n",
       "      <td>32815</td>\n",
       "      <td>1434340848</td>\n",
       "      <td>viewed</td>\n",
       "      <td>17632</td>\n",
       "      <td>2015-06-15</td>\n",
       "      <td>2015</td>\n",
       "      <td>6</td>\n",
       "      <td>2015</td>\n",
       "      <td>6</td>\n",
       "    </tr>\n",
       "    <tr>\n",
       "      <th>2015-06-15 04:00:48</th>\n",
       "      <td>32815</td>\n",
       "      <td>1434340848</td>\n",
       "      <td>passed</td>\n",
       "      <td>17632</td>\n",
       "      <td>2015-06-15</td>\n",
       "      <td>2015</td>\n",
       "      <td>6</td>\n",
       "      <td>2015</td>\n",
       "      <td>6</td>\n",
       "    </tr>\n",
       "    <tr>\n",
       "      <th>2015-06-15 04:00:48</th>\n",
       "      <td>32815</td>\n",
       "      <td>1434340848</td>\n",
       "      <td>discovered</td>\n",
       "      <td>17632</td>\n",
       "      <td>2015-06-15</td>\n",
       "      <td>2015</td>\n",
       "      <td>6</td>\n",
       "      <td>2015</td>\n",
       "      <td>6</td>\n",
       "    </tr>\n",
       "    <tr>\n",
       "      <th>2015-06-15 04:01:35</th>\n",
       "      <td>32811</td>\n",
       "      <td>1434340895</td>\n",
       "      <td>discovered</td>\n",
       "      <td>17632</td>\n",
       "      <td>2015-06-15</td>\n",
       "      <td>2015</td>\n",
       "      <td>6</td>\n",
       "      <td>2015</td>\n",
       "      <td>6</td>\n",
       "    </tr>\n",
       "    <tr>\n",
       "      <th>2015-06-15 04:01:35</th>\n",
       "      <td>32811</td>\n",
       "      <td>1434340895</td>\n",
       "      <td>viewed</td>\n",
       "      <td>17632</td>\n",
       "      <td>2015-06-15</td>\n",
       "      <td>2015</td>\n",
       "      <td>6</td>\n",
       "      <td>2015</td>\n",
       "      <td>6</td>\n",
       "    </tr>\n",
       "  </tbody>\n",
       "</table>\n",
       "</div>"
      ],
      "text/plain": [
       "                     step_id   timestamp      action  user_id         day  \\\n",
       "date                                                                        \n",
       "2015-06-15 04:00:48    32815  1434340848      viewed    17632  2015-06-15   \n",
       "2015-06-15 04:00:48    32815  1434340848      passed    17632  2015-06-15   \n",
       "2015-06-15 04:00:48    32815  1434340848  discovered    17632  2015-06-15   \n",
       "2015-06-15 04:01:35    32811  1434340895  discovered    17632  2015-06-15   \n",
       "2015-06-15 04:01:35    32811  1434340895      viewed    17632  2015-06-15   \n",
       "\n",
       "                     dateyear  datemonth  date year  date month  \n",
       "date                                                             \n",
       "2015-06-15 04:00:48      2015          6       2015           6  \n",
       "2015-06-15 04:00:48      2015          6       2015           6  \n",
       "2015-06-15 04:00:48      2015          6       2015           6  \n",
       "2015-06-15 04:01:35      2015          6       2015           6  \n",
       "2015-06-15 04:01:35      2015          6       2015           6  "
      ]
     },
     "execution_count": 64,
     "metadata": {},
     "output_type": "execute_result"
    }
   ],
   "source": [
    "events_data.head()"
   ]
  },
  {
   "cell_type": "code",
   "execution_count": 66,
   "metadata": {},
   "outputs": [
    {
     "data": {
      "text/html": [
       "<div>\n",
       "<style scoped>\n",
       "    .dataframe tbody tr th:only-of-type {\n",
       "        vertical-align: middle;\n",
       "    }\n",
       "\n",
       "    .dataframe tbody tr th {\n",
       "        vertical-align: top;\n",
       "    }\n",
       "\n",
       "    .dataframe thead th {\n",
       "        text-align: right;\n",
       "    }\n",
       "</style>\n",
       "<table border=\"1\" class=\"dataframe\">\n",
       "  <thead>\n",
       "    <tr style=\"text-align: right;\">\n",
       "      <th></th>\n",
       "      <th>step_id</th>\n",
       "      <th>timestamp</th>\n",
       "      <th>user_id</th>\n",
       "      <th>dateyear</th>\n",
       "      <th>datemonth</th>\n",
       "      <th>date year</th>\n",
       "      <th>date month</th>\n",
       "    </tr>\n",
       "    <tr>\n",
       "      <th>date</th>\n",
       "      <th></th>\n",
       "      <th></th>\n",
       "      <th></th>\n",
       "      <th></th>\n",
       "      <th></th>\n",
       "      <th></th>\n",
       "      <th></th>\n",
       "    </tr>\n",
       "  </thead>\n",
       "  <tbody>\n",
       "    <tr>\n",
       "      <th>2015-12-31</th>\n",
       "      <td>32873.179911</td>\n",
       "      <td>1.438296e+09</td>\n",
       "      <td>13610.394609</td>\n",
       "      <td>2015.0</td>\n",
       "      <td>7.470770</td>\n",
       "      <td>2015.0</td>\n",
       "      <td>7.470770</td>\n",
       "    </tr>\n",
       "    <tr>\n",
       "      <th>2016-12-31</th>\n",
       "      <td>34019.943790</td>\n",
       "      <td>1.469133e+09</td>\n",
       "      <td>13339.201521</td>\n",
       "      <td>2016.0</td>\n",
       "      <td>7.165749</td>\n",
       "      <td>2016.0</td>\n",
       "      <td>7.165749</td>\n",
       "    </tr>\n",
       "    <tr>\n",
       "      <th>2017-12-31</th>\n",
       "      <td>36394.168285</td>\n",
       "      <td>1.499609e+09</td>\n",
       "      <td>13099.224931</td>\n",
       "      <td>2017.0</td>\n",
       "      <td>6.755591</td>\n",
       "      <td>2017.0</td>\n",
       "      <td>6.755591</td>\n",
       "    </tr>\n",
       "    <tr>\n",
       "      <th>2018-12-31</th>\n",
       "      <td>36092.028681</td>\n",
       "      <td>1.520983e+09</td>\n",
       "      <td>13258.807683</td>\n",
       "      <td>2018.0</td>\n",
       "      <td>2.908536</td>\n",
       "      <td>2018.0</td>\n",
       "      <td>2.908536</td>\n",
       "    </tr>\n",
       "  </tbody>\n",
       "</table>\n",
       "</div>"
      ],
      "text/plain": [
       "                 step_id     timestamp       user_id  dateyear  datemonth  \\\n",
       "date                                                                        \n",
       "2015-12-31  32873.179911  1.438296e+09  13610.394609    2015.0   7.470770   \n",
       "2016-12-31  34019.943790  1.469133e+09  13339.201521    2016.0   7.165749   \n",
       "2017-12-31  36394.168285  1.499609e+09  13099.224931    2017.0   6.755591   \n",
       "2018-12-31  36092.028681  1.520983e+09  13258.807683    2018.0   2.908536   \n",
       "\n",
       "            date year  date month  \n",
       "date                               \n",
       "2015-12-31     2015.0    7.470770  \n",
       "2016-12-31     2016.0    7.165749  \n",
       "2017-12-31     2017.0    6.755591  \n",
       "2018-12-31     2018.0    2.908536  "
      ]
     },
     "execution_count": 66,
     "metadata": {},
     "output_type": "execute_result"
    }
   ],
   "source": [
    "events_data.resample('Y').mean()"
   ]
  },
  {
   "cell_type": "code",
   "execution_count": 70,
   "metadata": {},
   "outputs": [
    {
     "data": {
      "text/html": [
       "<div>\n",
       "<style scoped>\n",
       "    .dataframe tbody tr th:only-of-type {\n",
       "        vertical-align: middle;\n",
       "    }\n",
       "\n",
       "    .dataframe tbody tr th {\n",
       "        vertical-align: top;\n",
       "    }\n",
       "\n",
       "    .dataframe thead th {\n",
       "        text-align: right;\n",
       "    }\n",
       "</style>\n",
       "<table border=\"1\" class=\"dataframe\">\n",
       "  <thead>\n",
       "    <tr style=\"text-align: right;\">\n",
       "      <th></th>\n",
       "      <th>step_id</th>\n",
       "      <th>timestamp</th>\n",
       "      <th>user_id</th>\n",
       "      <th>dateyear</th>\n",
       "      <th>datemonth</th>\n",
       "      <th>date year</th>\n",
       "      <th>date month</th>\n",
       "    </tr>\n",
       "    <tr>\n",
       "      <th>date</th>\n",
       "      <th></th>\n",
       "      <th></th>\n",
       "      <th></th>\n",
       "      <th></th>\n",
       "      <th></th>\n",
       "      <th></th>\n",
       "      <th></th>\n",
       "    </tr>\n",
       "  </thead>\n",
       "  <tbody>\n",
       "    <tr>\n",
       "      <th>2015-06-30</th>\n",
       "      <td>32609.699043</td>\n",
       "      <td>1.435002e+09</td>\n",
       "      <td>13110.564509</td>\n",
       "      <td>2015.0</td>\n",
       "      <td>6.0</td>\n",
       "      <td>2015.0</td>\n",
       "      <td>6.0</td>\n",
       "    </tr>\n",
       "    <tr>\n",
       "      <th>2015-07-31</th>\n",
       "      <td>33131.139669</td>\n",
       "      <td>1.436560e+09</td>\n",
       "      <td>13568.436441</td>\n",
       "      <td>2015.0</td>\n",
       "      <td>7.0</td>\n",
       "      <td>2015.0</td>\n",
       "      <td>7.0</td>\n",
       "    </tr>\n",
       "    <tr>\n",
       "      <th>2015-08-31</th>\n",
       "      <td>32802.874457</td>\n",
       "      <td>1.439784e+09</td>\n",
       "      <td>15430.606182</td>\n",
       "      <td>2015.0</td>\n",
       "      <td>8.0</td>\n",
       "      <td>2015.0</td>\n",
       "      <td>8.0</td>\n",
       "    </tr>\n",
       "    <tr>\n",
       "      <th>2015-09-30</th>\n",
       "      <td>32725.500753</td>\n",
       "      <td>1.442319e+09</td>\n",
       "      <td>15035.094857</td>\n",
       "      <td>2015.0</td>\n",
       "      <td>9.0</td>\n",
       "      <td>2015.0</td>\n",
       "      <td>9.0</td>\n",
       "    </tr>\n",
       "    <tr>\n",
       "      <th>2015-10-31</th>\n",
       "      <td>32734.172844</td>\n",
       "      <td>1.445222e+09</td>\n",
       "      <td>14297.456279</td>\n",
       "      <td>2015.0</td>\n",
       "      <td>10.0</td>\n",
       "      <td>2015.0</td>\n",
       "      <td>10.0</td>\n",
       "    </tr>\n",
       "    <tr>\n",
       "      <th>2015-11-30</th>\n",
       "      <td>32800.241970</td>\n",
       "      <td>1.447612e+09</td>\n",
       "      <td>14140.340982</td>\n",
       "      <td>2015.0</td>\n",
       "      <td>11.0</td>\n",
       "      <td>2015.0</td>\n",
       "      <td>11.0</td>\n",
       "    </tr>\n",
       "    <tr>\n",
       "      <th>2015-12-31</th>\n",
       "      <td>32840.624546</td>\n",
       "      <td>1.450181e+09</td>\n",
       "      <td>13490.822805</td>\n",
       "      <td>2015.0</td>\n",
       "      <td>12.0</td>\n",
       "      <td>2015.0</td>\n",
       "      <td>12.0</td>\n",
       "    </tr>\n",
       "    <tr>\n",
       "      <th>2016-01-31</th>\n",
       "      <td>32794.939404</td>\n",
       "      <td>1.453076e+09</td>\n",
       "      <td>13415.122528</td>\n",
       "      <td>2016.0</td>\n",
       "      <td>1.0</td>\n",
       "      <td>2016.0</td>\n",
       "      <td>1.0</td>\n",
       "    </tr>\n",
       "    <tr>\n",
       "      <th>2016-02-29</th>\n",
       "      <td>32815.864116</td>\n",
       "      <td>1.455587e+09</td>\n",
       "      <td>13779.705069</td>\n",
       "      <td>2016.0</td>\n",
       "      <td>2.0</td>\n",
       "      <td>2016.0</td>\n",
       "      <td>2.0</td>\n",
       "    </tr>\n",
       "    <tr>\n",
       "      <th>2016-03-31</th>\n",
       "      <td>32762.855760</td>\n",
       "      <td>1.458175e+09</td>\n",
       "      <td>12954.042779</td>\n",
       "      <td>2016.0</td>\n",
       "      <td>3.0</td>\n",
       "      <td>2016.0</td>\n",
       "      <td>3.0</td>\n",
       "    </tr>\n",
       "    <tr>\n",
       "      <th>2016-04-30</th>\n",
       "      <td>32834.568237</td>\n",
       "      <td>1.460651e+09</td>\n",
       "      <td>12859.237911</td>\n",
       "      <td>2016.0</td>\n",
       "      <td>4.0</td>\n",
       "      <td>2016.0</td>\n",
       "      <td>4.0</td>\n",
       "    </tr>\n",
       "    <tr>\n",
       "      <th>2016-05-31</th>\n",
       "      <td>32871.937513</td>\n",
       "      <td>1.463323e+09</td>\n",
       "      <td>13787.075387</td>\n",
       "      <td>2016.0</td>\n",
       "      <td>5.0</td>\n",
       "      <td>2016.0</td>\n",
       "      <td>5.0</td>\n",
       "    </tr>\n",
       "    <tr>\n",
       "      <th>2016-06-30</th>\n",
       "      <td>33073.343440</td>\n",
       "      <td>1.466130e+09</td>\n",
       "      <td>12493.414936</td>\n",
       "      <td>2016.0</td>\n",
       "      <td>6.0</td>\n",
       "      <td>2016.0</td>\n",
       "      <td>6.0</td>\n",
       "    </tr>\n",
       "    <tr>\n",
       "      <th>2016-07-31</th>\n",
       "      <td>33056.264369</td>\n",
       "      <td>1.468766e+09</td>\n",
       "      <td>13019.801863</td>\n",
       "      <td>2016.0</td>\n",
       "      <td>7.0</td>\n",
       "      <td>2016.0</td>\n",
       "      <td>7.0</td>\n",
       "    </tr>\n",
       "    <tr>\n",
       "      <th>2016-08-31</th>\n",
       "      <td>34817.000321</td>\n",
       "      <td>1.471442e+09</td>\n",
       "      <td>12939.721175</td>\n",
       "      <td>2016.0</td>\n",
       "      <td>8.0</td>\n",
       "      <td>2016.0</td>\n",
       "      <td>8.0</td>\n",
       "    </tr>\n",
       "    <tr>\n",
       "      <th>2016-09-30</th>\n",
       "      <td>35448.953764</td>\n",
       "      <td>1.474049e+09</td>\n",
       "      <td>13760.820283</td>\n",
       "      <td>2016.0</td>\n",
       "      <td>9.0</td>\n",
       "      <td>2016.0</td>\n",
       "      <td>9.0</td>\n",
       "    </tr>\n",
       "    <tr>\n",
       "      <th>2016-10-31</th>\n",
       "      <td>34836.478732</td>\n",
       "      <td>1.476415e+09</td>\n",
       "      <td>14023.473139</td>\n",
       "      <td>2016.0</td>\n",
       "      <td>10.0</td>\n",
       "      <td>2016.0</td>\n",
       "      <td>10.0</td>\n",
       "    </tr>\n",
       "    <tr>\n",
       "      <th>2016-11-30</th>\n",
       "      <td>34814.082567</td>\n",
       "      <td>1.479215e+09</td>\n",
       "      <td>14124.750279</td>\n",
       "      <td>2016.0</td>\n",
       "      <td>11.0</td>\n",
       "      <td>2016.0</td>\n",
       "      <td>11.0</td>\n",
       "    </tr>\n",
       "    <tr>\n",
       "      <th>2016-12-31</th>\n",
       "      <td>34821.427799</td>\n",
       "      <td>1.481841e+09</td>\n",
       "      <td>11810.897714</td>\n",
       "      <td>2016.0</td>\n",
       "      <td>12.0</td>\n",
       "      <td>2016.0</td>\n",
       "      <td>12.0</td>\n",
       "    </tr>\n",
       "    <tr>\n",
       "      <th>2017-01-31</th>\n",
       "      <td>35574.813446</td>\n",
       "      <td>1.484623e+09</td>\n",
       "      <td>13212.542238</td>\n",
       "      <td>2017.0</td>\n",
       "      <td>1.0</td>\n",
       "      <td>2017.0</td>\n",
       "      <td>1.0</td>\n",
       "    </tr>\n",
       "    <tr>\n",
       "      <th>2017-02-28</th>\n",
       "      <td>37019.971905</td>\n",
       "      <td>1.487189e+09</td>\n",
       "      <td>12841.694285</td>\n",
       "      <td>2017.0</td>\n",
       "      <td>2.0</td>\n",
       "      <td>2017.0</td>\n",
       "      <td>2.0</td>\n",
       "    </tr>\n",
       "    <tr>\n",
       "      <th>2017-03-31</th>\n",
       "      <td>36440.872251</td>\n",
       "      <td>1.489711e+09</td>\n",
       "      <td>12729.983330</td>\n",
       "      <td>2017.0</td>\n",
       "      <td>3.0</td>\n",
       "      <td>2017.0</td>\n",
       "      <td>3.0</td>\n",
       "    </tr>\n",
       "    <tr>\n",
       "      <th>2017-04-30</th>\n",
       "      <td>36170.055542</td>\n",
       "      <td>1.492270e+09</td>\n",
       "      <td>13178.181205</td>\n",
       "      <td>2017.0</td>\n",
       "      <td>4.0</td>\n",
       "      <td>2017.0</td>\n",
       "      <td>4.0</td>\n",
       "    </tr>\n",
       "    <tr>\n",
       "      <th>2017-05-31</th>\n",
       "      <td>36532.883763</td>\n",
       "      <td>1.494926e+09</td>\n",
       "      <td>13612.930068</td>\n",
       "      <td>2017.0</td>\n",
       "      <td>5.0</td>\n",
       "      <td>2017.0</td>\n",
       "      <td>5.0</td>\n",
       "    </tr>\n",
       "    <tr>\n",
       "      <th>2017-06-30</th>\n",
       "      <td>36607.240478</td>\n",
       "      <td>1.497482e+09</td>\n",
       "      <td>13740.969324</td>\n",
       "      <td>2017.0</td>\n",
       "      <td>6.0</td>\n",
       "      <td>2017.0</td>\n",
       "      <td>6.0</td>\n",
       "    </tr>\n",
       "    <tr>\n",
       "      <th>2017-07-31</th>\n",
       "      <td>36231.187359</td>\n",
       "      <td>1.500208e+09</td>\n",
       "      <td>13210.729892</td>\n",
       "      <td>2017.0</td>\n",
       "      <td>7.0</td>\n",
       "      <td>2017.0</td>\n",
       "      <td>7.0</td>\n",
       "    </tr>\n",
       "    <tr>\n",
       "      <th>2017-08-31</th>\n",
       "      <td>36386.634344</td>\n",
       "      <td>1.502903e+09</td>\n",
       "      <td>12297.932056</td>\n",
       "      <td>2017.0</td>\n",
       "      <td>8.0</td>\n",
       "      <td>2017.0</td>\n",
       "      <td>8.0</td>\n",
       "    </tr>\n",
       "    <tr>\n",
       "      <th>2017-09-30</th>\n",
       "      <td>36775.842872</td>\n",
       "      <td>1.505537e+09</td>\n",
       "      <td>13209.185851</td>\n",
       "      <td>2017.0</td>\n",
       "      <td>9.0</td>\n",
       "      <td>2017.0</td>\n",
       "      <td>9.0</td>\n",
       "    </tr>\n",
       "    <tr>\n",
       "      <th>2017-10-31</th>\n",
       "      <td>36459.082211</td>\n",
       "      <td>1.508189e+09</td>\n",
       "      <td>13761.274076</td>\n",
       "      <td>2017.0</td>\n",
       "      <td>10.0</td>\n",
       "      <td>2017.0</td>\n",
       "      <td>10.0</td>\n",
       "    </tr>\n",
       "    <tr>\n",
       "      <th>2017-11-30</th>\n",
       "      <td>36183.219444</td>\n",
       "      <td>1.510813e+09</td>\n",
       "      <td>12552.006044</td>\n",
       "      <td>2017.0</td>\n",
       "      <td>11.0</td>\n",
       "      <td>2017.0</td>\n",
       "      <td>11.0</td>\n",
       "    </tr>\n",
       "    <tr>\n",
       "      <th>2017-12-31</th>\n",
       "      <td>36181.705664</td>\n",
       "      <td>1.513417e+09</td>\n",
       "      <td>12630.613328</td>\n",
       "      <td>2017.0</td>\n",
       "      <td>12.0</td>\n",
       "      <td>2017.0</td>\n",
       "      <td>12.0</td>\n",
       "    </tr>\n",
       "    <tr>\n",
       "      <th>2018-01-31</th>\n",
       "      <td>36066.528403</td>\n",
       "      <td>1.516083e+09</td>\n",
       "      <td>13599.388446</td>\n",
       "      <td>2018.0</td>\n",
       "      <td>1.0</td>\n",
       "      <td>2018.0</td>\n",
       "      <td>1.0</td>\n",
       "    </tr>\n",
       "    <tr>\n",
       "      <th>2018-02-28</th>\n",
       "      <td>36189.745056</td>\n",
       "      <td>1.518723e+09</td>\n",
       "      <td>13445.492702</td>\n",
       "      <td>2018.0</td>\n",
       "      <td>2.0</td>\n",
       "      <td>2018.0</td>\n",
       "      <td>2.0</td>\n",
       "    </tr>\n",
       "    <tr>\n",
       "      <th>2018-03-31</th>\n",
       "      <td>35759.211749</td>\n",
       "      <td>1.521278e+09</td>\n",
       "      <td>13088.821468</td>\n",
       "      <td>2018.0</td>\n",
       "      <td>3.0</td>\n",
       "      <td>2018.0</td>\n",
       "      <td>3.0</td>\n",
       "    </tr>\n",
       "    <tr>\n",
       "      <th>2018-04-30</th>\n",
       "      <td>36368.050771</td>\n",
       "      <td>1.523872e+09</td>\n",
       "      <td>13062.143696</td>\n",
       "      <td>2018.0</td>\n",
       "      <td>4.0</td>\n",
       "      <td>2018.0</td>\n",
       "      <td>4.0</td>\n",
       "    </tr>\n",
       "    <tr>\n",
       "      <th>2018-05-31</th>\n",
       "      <td>36339.992882</td>\n",
       "      <td>1.525944e+09</td>\n",
       "      <td>13232.334234</td>\n",
       "      <td>2018.0</td>\n",
       "      <td>5.0</td>\n",
       "      <td>2018.0</td>\n",
       "      <td>5.0</td>\n",
       "    </tr>\n",
       "  </tbody>\n",
       "</table>\n",
       "</div>"
      ],
      "text/plain": [
       "                 step_id     timestamp       user_id  dateyear  datemonth  \\\n",
       "date                                                                        \n",
       "2015-06-30  32609.699043  1.435002e+09  13110.564509    2015.0        6.0   \n",
       "2015-07-31  33131.139669  1.436560e+09  13568.436441    2015.0        7.0   \n",
       "2015-08-31  32802.874457  1.439784e+09  15430.606182    2015.0        8.0   \n",
       "2015-09-30  32725.500753  1.442319e+09  15035.094857    2015.0        9.0   \n",
       "2015-10-31  32734.172844  1.445222e+09  14297.456279    2015.0       10.0   \n",
       "2015-11-30  32800.241970  1.447612e+09  14140.340982    2015.0       11.0   \n",
       "2015-12-31  32840.624546  1.450181e+09  13490.822805    2015.0       12.0   \n",
       "2016-01-31  32794.939404  1.453076e+09  13415.122528    2016.0        1.0   \n",
       "2016-02-29  32815.864116  1.455587e+09  13779.705069    2016.0        2.0   \n",
       "2016-03-31  32762.855760  1.458175e+09  12954.042779    2016.0        3.0   \n",
       "2016-04-30  32834.568237  1.460651e+09  12859.237911    2016.0        4.0   \n",
       "2016-05-31  32871.937513  1.463323e+09  13787.075387    2016.0        5.0   \n",
       "2016-06-30  33073.343440  1.466130e+09  12493.414936    2016.0        6.0   \n",
       "2016-07-31  33056.264369  1.468766e+09  13019.801863    2016.0        7.0   \n",
       "2016-08-31  34817.000321  1.471442e+09  12939.721175    2016.0        8.0   \n",
       "2016-09-30  35448.953764  1.474049e+09  13760.820283    2016.0        9.0   \n",
       "2016-10-31  34836.478732  1.476415e+09  14023.473139    2016.0       10.0   \n",
       "2016-11-30  34814.082567  1.479215e+09  14124.750279    2016.0       11.0   \n",
       "2016-12-31  34821.427799  1.481841e+09  11810.897714    2016.0       12.0   \n",
       "2017-01-31  35574.813446  1.484623e+09  13212.542238    2017.0        1.0   \n",
       "2017-02-28  37019.971905  1.487189e+09  12841.694285    2017.0        2.0   \n",
       "2017-03-31  36440.872251  1.489711e+09  12729.983330    2017.0        3.0   \n",
       "2017-04-30  36170.055542  1.492270e+09  13178.181205    2017.0        4.0   \n",
       "2017-05-31  36532.883763  1.494926e+09  13612.930068    2017.0        5.0   \n",
       "2017-06-30  36607.240478  1.497482e+09  13740.969324    2017.0        6.0   \n",
       "2017-07-31  36231.187359  1.500208e+09  13210.729892    2017.0        7.0   \n",
       "2017-08-31  36386.634344  1.502903e+09  12297.932056    2017.0        8.0   \n",
       "2017-09-30  36775.842872  1.505537e+09  13209.185851    2017.0        9.0   \n",
       "2017-10-31  36459.082211  1.508189e+09  13761.274076    2017.0       10.0   \n",
       "2017-11-30  36183.219444  1.510813e+09  12552.006044    2017.0       11.0   \n",
       "2017-12-31  36181.705664  1.513417e+09  12630.613328    2017.0       12.0   \n",
       "2018-01-31  36066.528403  1.516083e+09  13599.388446    2018.0        1.0   \n",
       "2018-02-28  36189.745056  1.518723e+09  13445.492702    2018.0        2.0   \n",
       "2018-03-31  35759.211749  1.521278e+09  13088.821468    2018.0        3.0   \n",
       "2018-04-30  36368.050771  1.523872e+09  13062.143696    2018.0        4.0   \n",
       "2018-05-31  36339.992882  1.525944e+09  13232.334234    2018.0        5.0   \n",
       "\n",
       "            date year  date month  \n",
       "date                               \n",
       "2015-06-30     2015.0         6.0  \n",
       "2015-07-31     2015.0         7.0  \n",
       "2015-08-31     2015.0         8.0  \n",
       "2015-09-30     2015.0         9.0  \n",
       "2015-10-31     2015.0        10.0  \n",
       "2015-11-30     2015.0        11.0  \n",
       "2015-12-31     2015.0        12.0  \n",
       "2016-01-31     2016.0         1.0  \n",
       "2016-02-29     2016.0         2.0  \n",
       "2016-03-31     2016.0         3.0  \n",
       "2016-04-30     2016.0         4.0  \n",
       "2016-05-31     2016.0         5.0  \n",
       "2016-06-30     2016.0         6.0  \n",
       "2016-07-31     2016.0         7.0  \n",
       "2016-08-31     2016.0         8.0  \n",
       "2016-09-30     2016.0         9.0  \n",
       "2016-10-31     2016.0        10.0  \n",
       "2016-11-30     2016.0        11.0  \n",
       "2016-12-31     2016.0        12.0  \n",
       "2017-01-31     2017.0         1.0  \n",
       "2017-02-28     2017.0         2.0  \n",
       "2017-03-31     2017.0         3.0  \n",
       "2017-04-30     2017.0         4.0  \n",
       "2017-05-31     2017.0         5.0  \n",
       "2017-06-30     2017.0         6.0  \n",
       "2017-07-31     2017.0         7.0  \n",
       "2017-08-31     2017.0         8.0  \n",
       "2017-09-30     2017.0         9.0  \n",
       "2017-10-31     2017.0        10.0  \n",
       "2017-11-30     2017.0        11.0  \n",
       "2017-12-31     2017.0        12.0  \n",
       "2018-01-31     2018.0         1.0  \n",
       "2018-02-28     2018.0         2.0  \n",
       "2018-03-31     2018.0         3.0  \n",
       "2018-04-30     2018.0         4.0  \n",
       "2018-05-31     2018.0         5.0  "
      ]
     },
     "execution_count": 70,
     "metadata": {},
     "output_type": "execute_result"
    }
   ],
   "source": [
    "new_events_data = events_data.resample('M').mean()\n",
    "new_events_data"
   ]
  },
  {
   "cell_type": "code",
   "execution_count": 72,
   "metadata": {},
   "outputs": [
    {
     "data": {
      "text/html": [
       "<div>\n",
       "<style scoped>\n",
       "    .dataframe tbody tr th:only-of-type {\n",
       "        vertical-align: middle;\n",
       "    }\n",
       "\n",
       "    .dataframe tbody tr th {\n",
       "        vertical-align: top;\n",
       "    }\n",
       "\n",
       "    .dataframe thead th {\n",
       "        text-align: right;\n",
       "    }\n",
       "</style>\n",
       "<table border=\"1\" class=\"dataframe\">\n",
       "  <thead>\n",
       "    <tr style=\"text-align: right;\">\n",
       "      <th></th>\n",
       "      <th>step_id</th>\n",
       "      <th>timestamp</th>\n",
       "      <th>user_id</th>\n",
       "      <th>dateyear</th>\n",
       "      <th>datemonth</th>\n",
       "      <th>date year</th>\n",
       "      <th>date month</th>\n",
       "    </tr>\n",
       "    <tr>\n",
       "      <th>date</th>\n",
       "      <th></th>\n",
       "      <th></th>\n",
       "      <th></th>\n",
       "      <th></th>\n",
       "      <th></th>\n",
       "      <th></th>\n",
       "      <th></th>\n",
       "    </tr>\n",
       "  </thead>\n",
       "  <tbody>\n",
       "    <tr>\n",
       "      <th>2018-01-31</th>\n",
       "      <td>36066.528403</td>\n",
       "      <td>1.516083e+09</td>\n",
       "      <td>13599.388446</td>\n",
       "      <td>2018.0</td>\n",
       "      <td>1.0</td>\n",
       "      <td>2018.0</td>\n",
       "      <td>1.0</td>\n",
       "    </tr>\n",
       "    <tr>\n",
       "      <th>2018-02-28</th>\n",
       "      <td>36189.745056</td>\n",
       "      <td>1.518723e+09</td>\n",
       "      <td>13445.492702</td>\n",
       "      <td>2018.0</td>\n",
       "      <td>2.0</td>\n",
       "      <td>2018.0</td>\n",
       "      <td>2.0</td>\n",
       "    </tr>\n",
       "    <tr>\n",
       "      <th>2018-03-31</th>\n",
       "      <td>35759.211749</td>\n",
       "      <td>1.521278e+09</td>\n",
       "      <td>13088.821468</td>\n",
       "      <td>2018.0</td>\n",
       "      <td>3.0</td>\n",
       "      <td>2018.0</td>\n",
       "      <td>3.0</td>\n",
       "    </tr>\n",
       "    <tr>\n",
       "      <th>2018-04-30</th>\n",
       "      <td>36368.050771</td>\n",
       "      <td>1.523872e+09</td>\n",
       "      <td>13062.143696</td>\n",
       "      <td>2018.0</td>\n",
       "      <td>4.0</td>\n",
       "      <td>2018.0</td>\n",
       "      <td>4.0</td>\n",
       "    </tr>\n",
       "    <tr>\n",
       "      <th>2018-05-31</th>\n",
       "      <td>36339.992882</td>\n",
       "      <td>1.525944e+09</td>\n",
       "      <td>13232.334234</td>\n",
       "      <td>2018.0</td>\n",
       "      <td>5.0</td>\n",
       "      <td>2018.0</td>\n",
       "      <td>5.0</td>\n",
       "    </tr>\n",
       "  </tbody>\n",
       "</table>\n",
       "</div>"
      ],
      "text/plain": [
       "                 step_id     timestamp       user_id  dateyear  datemonth  \\\n",
       "date                                                                        \n",
       "2018-01-31  36066.528403  1.516083e+09  13599.388446    2018.0        1.0   \n",
       "2018-02-28  36189.745056  1.518723e+09  13445.492702    2018.0        2.0   \n",
       "2018-03-31  35759.211749  1.521278e+09  13088.821468    2018.0        3.0   \n",
       "2018-04-30  36368.050771  1.523872e+09  13062.143696    2018.0        4.0   \n",
       "2018-05-31  36339.992882  1.525944e+09  13232.334234    2018.0        5.0   \n",
       "\n",
       "            date year  date month  \n",
       "date                               \n",
       "2018-01-31     2018.0         1.0  \n",
       "2018-02-28     2018.0         2.0  \n",
       "2018-03-31     2018.0         3.0  \n",
       "2018-04-30     2018.0         4.0  \n",
       "2018-05-31     2018.0         5.0  "
      ]
     },
     "execution_count": 72,
     "metadata": {},
     "output_type": "execute_result"
    }
   ],
   "source": [
    "new_events_data['2018']"
   ]
  },
  {
   "cell_type": "code",
   "execution_count": 73,
   "metadata": {},
   "outputs": [
    {
     "data": {
      "text/html": [
       "<div>\n",
       "<style scoped>\n",
       "    .dataframe tbody tr th:only-of-type {\n",
       "        vertical-align: middle;\n",
       "    }\n",
       "\n",
       "    .dataframe tbody tr th {\n",
       "        vertical-align: top;\n",
       "    }\n",
       "\n",
       "    .dataframe thead th {\n",
       "        text-align: right;\n",
       "    }\n",
       "</style>\n",
       "<table border=\"1\" class=\"dataframe\">\n",
       "  <thead>\n",
       "    <tr style=\"text-align: right;\">\n",
       "      <th></th>\n",
       "      <th>step_id</th>\n",
       "      <th>timestamp</th>\n",
       "      <th>user_id</th>\n",
       "      <th>dateyear</th>\n",
       "      <th>datemonth</th>\n",
       "      <th>date year</th>\n",
       "      <th>date month</th>\n",
       "    </tr>\n",
       "    <tr>\n",
       "      <th>date</th>\n",
       "      <th></th>\n",
       "      <th></th>\n",
       "      <th></th>\n",
       "      <th></th>\n",
       "      <th></th>\n",
       "      <th></th>\n",
       "      <th></th>\n",
       "    </tr>\n",
       "  </thead>\n",
       "  <tbody>\n",
       "    <tr>\n",
       "      <th>2018-05-31</th>\n",
       "      <td>36339.992882</td>\n",
       "      <td>1.525944e+09</td>\n",
       "      <td>13232.334234</td>\n",
       "      <td>2018.0</td>\n",
       "      <td>5.0</td>\n",
       "      <td>2018.0</td>\n",
       "      <td>5.0</td>\n",
       "    </tr>\n",
       "  </tbody>\n",
       "</table>\n",
       "</div>"
      ],
      "text/plain": [
       "                 step_id     timestamp       user_id  dateyear  datemonth  \\\n",
       "date                                                                        \n",
       "2018-05-31  36339.992882  1.525944e+09  13232.334234    2018.0        5.0   \n",
       "\n",
       "            date year  date month  \n",
       "date                               \n",
       "2018-05-31     2018.0         5.0  "
      ]
     },
     "execution_count": 73,
     "metadata": {},
     "output_type": "execute_result"
    }
   ],
   "source": [
    "new_events_data['2018-05']"
   ]
  },
  {
   "cell_type": "code",
   "execution_count": 78,
   "metadata": {},
   "outputs": [
    {
     "data": {
      "text/html": [
       "<div>\n",
       "<style scoped>\n",
       "    .dataframe tbody tr th:only-of-type {\n",
       "        vertical-align: middle;\n",
       "    }\n",
       "\n",
       "    .dataframe tbody tr th {\n",
       "        vertical-align: top;\n",
       "    }\n",
       "\n",
       "    .dataframe thead th {\n",
       "        text-align: right;\n",
       "    }\n",
       "</style>\n",
       "<table border=\"1\" class=\"dataframe\">\n",
       "  <thead>\n",
       "    <tr style=\"text-align: right;\">\n",
       "      <th></th>\n",
       "      <th>step_id</th>\n",
       "      <th>timestamp</th>\n",
       "      <th>user_id</th>\n",
       "      <th>dateyear</th>\n",
       "      <th>datemonth</th>\n",
       "      <th>date year</th>\n",
       "      <th>date month</th>\n",
       "    </tr>\n",
       "    <tr>\n",
       "      <th>date</th>\n",
       "      <th></th>\n",
       "      <th></th>\n",
       "      <th></th>\n",
       "      <th></th>\n",
       "      <th></th>\n",
       "      <th></th>\n",
       "      <th></th>\n",
       "    </tr>\n",
       "  </thead>\n",
       "  <tbody>\n",
       "    <tr>\n",
       "      <th>2015-08-31</th>\n",
       "      <td>32802.874457</td>\n",
       "      <td>1.439784e+09</td>\n",
       "      <td>15430.606182</td>\n",
       "      <td>2015.0</td>\n",
       "      <td>8.0</td>\n",
       "      <td>2015.0</td>\n",
       "      <td>8.0</td>\n",
       "    </tr>\n",
       "    <tr>\n",
       "      <th>2015-09-30</th>\n",
       "      <td>32725.500753</td>\n",
       "      <td>1.442319e+09</td>\n",
       "      <td>15035.094857</td>\n",
       "      <td>2015.0</td>\n",
       "      <td>9.0</td>\n",
       "      <td>2015.0</td>\n",
       "      <td>9.0</td>\n",
       "    </tr>\n",
       "    <tr>\n",
       "      <th>2015-10-31</th>\n",
       "      <td>32734.172844</td>\n",
       "      <td>1.445222e+09</td>\n",
       "      <td>14297.456279</td>\n",
       "      <td>2015.0</td>\n",
       "      <td>10.0</td>\n",
       "      <td>2015.0</td>\n",
       "      <td>10.0</td>\n",
       "    </tr>\n",
       "    <tr>\n",
       "      <th>2015-11-30</th>\n",
       "      <td>32800.241970</td>\n",
       "      <td>1.447612e+09</td>\n",
       "      <td>14140.340982</td>\n",
       "      <td>2015.0</td>\n",
       "      <td>11.0</td>\n",
       "      <td>2015.0</td>\n",
       "      <td>11.0</td>\n",
       "    </tr>\n",
       "    <tr>\n",
       "      <th>2015-12-31</th>\n",
       "      <td>32840.624546</td>\n",
       "      <td>1.450181e+09</td>\n",
       "      <td>13490.822805</td>\n",
       "      <td>2015.0</td>\n",
       "      <td>12.0</td>\n",
       "      <td>2015.0</td>\n",
       "      <td>12.0</td>\n",
       "    </tr>\n",
       "    <tr>\n",
       "      <th>2016-01-31</th>\n",
       "      <td>32794.939404</td>\n",
       "      <td>1.453076e+09</td>\n",
       "      <td>13415.122528</td>\n",
       "      <td>2016.0</td>\n",
       "      <td>1.0</td>\n",
       "      <td>2016.0</td>\n",
       "      <td>1.0</td>\n",
       "    </tr>\n",
       "    <tr>\n",
       "      <th>2016-02-29</th>\n",
       "      <td>32815.864116</td>\n",
       "      <td>1.455587e+09</td>\n",
       "      <td>13779.705069</td>\n",
       "      <td>2016.0</td>\n",
       "      <td>2.0</td>\n",
       "      <td>2016.0</td>\n",
       "      <td>2.0</td>\n",
       "    </tr>\n",
       "    <tr>\n",
       "      <th>2016-03-31</th>\n",
       "      <td>32762.855760</td>\n",
       "      <td>1.458175e+09</td>\n",
       "      <td>12954.042779</td>\n",
       "      <td>2016.0</td>\n",
       "      <td>3.0</td>\n",
       "      <td>2016.0</td>\n",
       "      <td>3.0</td>\n",
       "    </tr>\n",
       "    <tr>\n",
       "      <th>2016-04-30</th>\n",
       "      <td>32834.568237</td>\n",
       "      <td>1.460651e+09</td>\n",
       "      <td>12859.237911</td>\n",
       "      <td>2016.0</td>\n",
       "      <td>4.0</td>\n",
       "      <td>2016.0</td>\n",
       "      <td>4.0</td>\n",
       "    </tr>\n",
       "    <tr>\n",
       "      <th>2016-05-31</th>\n",
       "      <td>32871.937513</td>\n",
       "      <td>1.463323e+09</td>\n",
       "      <td>13787.075387</td>\n",
       "      <td>2016.0</td>\n",
       "      <td>5.0</td>\n",
       "      <td>2016.0</td>\n",
       "      <td>5.0</td>\n",
       "    </tr>\n",
       "    <tr>\n",
       "      <th>2016-06-30</th>\n",
       "      <td>33073.343440</td>\n",
       "      <td>1.466130e+09</td>\n",
       "      <td>12493.414936</td>\n",
       "      <td>2016.0</td>\n",
       "      <td>6.0</td>\n",
       "      <td>2016.0</td>\n",
       "      <td>6.0</td>\n",
       "    </tr>\n",
       "    <tr>\n",
       "      <th>2016-07-31</th>\n",
       "      <td>33056.264369</td>\n",
       "      <td>1.468766e+09</td>\n",
       "      <td>13019.801863</td>\n",
       "      <td>2016.0</td>\n",
       "      <td>7.0</td>\n",
       "      <td>2016.0</td>\n",
       "      <td>7.0</td>\n",
       "    </tr>\n",
       "    <tr>\n",
       "      <th>2016-08-31</th>\n",
       "      <td>34817.000321</td>\n",
       "      <td>1.471442e+09</td>\n",
       "      <td>12939.721175</td>\n",
       "      <td>2016.0</td>\n",
       "      <td>8.0</td>\n",
       "      <td>2016.0</td>\n",
       "      <td>8.0</td>\n",
       "    </tr>\n",
       "    <tr>\n",
       "      <th>2016-09-30</th>\n",
       "      <td>35448.953764</td>\n",
       "      <td>1.474049e+09</td>\n",
       "      <td>13760.820283</td>\n",
       "      <td>2016.0</td>\n",
       "      <td>9.0</td>\n",
       "      <td>2016.0</td>\n",
       "      <td>9.0</td>\n",
       "    </tr>\n",
       "    <tr>\n",
       "      <th>2016-10-31</th>\n",
       "      <td>34836.478732</td>\n",
       "      <td>1.476415e+09</td>\n",
       "      <td>14023.473139</td>\n",
       "      <td>2016.0</td>\n",
       "      <td>10.0</td>\n",
       "      <td>2016.0</td>\n",
       "      <td>10.0</td>\n",
       "    </tr>\n",
       "    <tr>\n",
       "      <th>2016-11-30</th>\n",
       "      <td>34814.082567</td>\n",
       "      <td>1.479215e+09</td>\n",
       "      <td>14124.750279</td>\n",
       "      <td>2016.0</td>\n",
       "      <td>11.0</td>\n",
       "      <td>2016.0</td>\n",
       "      <td>11.0</td>\n",
       "    </tr>\n",
       "    <tr>\n",
       "      <th>2016-12-31</th>\n",
       "      <td>34821.427799</td>\n",
       "      <td>1.481841e+09</td>\n",
       "      <td>11810.897714</td>\n",
       "      <td>2016.0</td>\n",
       "      <td>12.0</td>\n",
       "      <td>2016.0</td>\n",
       "      <td>12.0</td>\n",
       "    </tr>\n",
       "    <tr>\n",
       "      <th>2017-01-31</th>\n",
       "      <td>35574.813446</td>\n",
       "      <td>1.484623e+09</td>\n",
       "      <td>13212.542238</td>\n",
       "      <td>2017.0</td>\n",
       "      <td>1.0</td>\n",
       "      <td>2017.0</td>\n",
       "      <td>1.0</td>\n",
       "    </tr>\n",
       "    <tr>\n",
       "      <th>2017-02-28</th>\n",
       "      <td>37019.971905</td>\n",
       "      <td>1.487189e+09</td>\n",
       "      <td>12841.694285</td>\n",
       "      <td>2017.0</td>\n",
       "      <td>2.0</td>\n",
       "      <td>2017.0</td>\n",
       "      <td>2.0</td>\n",
       "    </tr>\n",
       "    <tr>\n",
       "      <th>2017-03-31</th>\n",
       "      <td>36440.872251</td>\n",
       "      <td>1.489711e+09</td>\n",
       "      <td>12729.983330</td>\n",
       "      <td>2017.0</td>\n",
       "      <td>3.0</td>\n",
       "      <td>2017.0</td>\n",
       "      <td>3.0</td>\n",
       "    </tr>\n",
       "    <tr>\n",
       "      <th>2017-04-30</th>\n",
       "      <td>36170.055542</td>\n",
       "      <td>1.492270e+09</td>\n",
       "      <td>13178.181205</td>\n",
       "      <td>2017.0</td>\n",
       "      <td>4.0</td>\n",
       "      <td>2017.0</td>\n",
       "      <td>4.0</td>\n",
       "    </tr>\n",
       "    <tr>\n",
       "      <th>2017-05-31</th>\n",
       "      <td>36532.883763</td>\n",
       "      <td>1.494926e+09</td>\n",
       "      <td>13612.930068</td>\n",
       "      <td>2017.0</td>\n",
       "      <td>5.0</td>\n",
       "      <td>2017.0</td>\n",
       "      <td>5.0</td>\n",
       "    </tr>\n",
       "    <tr>\n",
       "      <th>2017-06-30</th>\n",
       "      <td>36607.240478</td>\n",
       "      <td>1.497482e+09</td>\n",
       "      <td>13740.969324</td>\n",
       "      <td>2017.0</td>\n",
       "      <td>6.0</td>\n",
       "      <td>2017.0</td>\n",
       "      <td>6.0</td>\n",
       "    </tr>\n",
       "    <tr>\n",
       "      <th>2017-07-31</th>\n",
       "      <td>36231.187359</td>\n",
       "      <td>1.500208e+09</td>\n",
       "      <td>13210.729892</td>\n",
       "      <td>2017.0</td>\n",
       "      <td>7.0</td>\n",
       "      <td>2017.0</td>\n",
       "      <td>7.0</td>\n",
       "    </tr>\n",
       "    <tr>\n",
       "      <th>2017-08-31</th>\n",
       "      <td>36386.634344</td>\n",
       "      <td>1.502903e+09</td>\n",
       "      <td>12297.932056</td>\n",
       "      <td>2017.0</td>\n",
       "      <td>8.0</td>\n",
       "      <td>2017.0</td>\n",
       "      <td>8.0</td>\n",
       "    </tr>\n",
       "    <tr>\n",
       "      <th>2017-09-30</th>\n",
       "      <td>36775.842872</td>\n",
       "      <td>1.505537e+09</td>\n",
       "      <td>13209.185851</td>\n",
       "      <td>2017.0</td>\n",
       "      <td>9.0</td>\n",
       "      <td>2017.0</td>\n",
       "      <td>9.0</td>\n",
       "    </tr>\n",
       "    <tr>\n",
       "      <th>2017-10-31</th>\n",
       "      <td>36459.082211</td>\n",
       "      <td>1.508189e+09</td>\n",
       "      <td>13761.274076</td>\n",
       "      <td>2017.0</td>\n",
       "      <td>10.0</td>\n",
       "      <td>2017.0</td>\n",
       "      <td>10.0</td>\n",
       "    </tr>\n",
       "    <tr>\n",
       "      <th>2017-11-30</th>\n",
       "      <td>36183.219444</td>\n",
       "      <td>1.510813e+09</td>\n",
       "      <td>12552.006044</td>\n",
       "      <td>2017.0</td>\n",
       "      <td>11.0</td>\n",
       "      <td>2017.0</td>\n",
       "      <td>11.0</td>\n",
       "    </tr>\n",
       "    <tr>\n",
       "      <th>2017-12-31</th>\n",
       "      <td>36181.705664</td>\n",
       "      <td>1.513417e+09</td>\n",
       "      <td>12630.613328</td>\n",
       "      <td>2017.0</td>\n",
       "      <td>12.0</td>\n",
       "      <td>2017.0</td>\n",
       "      <td>12.0</td>\n",
       "    </tr>\n",
       "    <tr>\n",
       "      <th>2018-01-31</th>\n",
       "      <td>36066.528403</td>\n",
       "      <td>1.516083e+09</td>\n",
       "      <td>13599.388446</td>\n",
       "      <td>2018.0</td>\n",
       "      <td>1.0</td>\n",
       "      <td>2018.0</td>\n",
       "      <td>1.0</td>\n",
       "    </tr>\n",
       "    <tr>\n",
       "      <th>2018-02-28</th>\n",
       "      <td>36189.745056</td>\n",
       "      <td>1.518723e+09</td>\n",
       "      <td>13445.492702</td>\n",
       "      <td>2018.0</td>\n",
       "      <td>2.0</td>\n",
       "      <td>2018.0</td>\n",
       "      <td>2.0</td>\n",
       "    </tr>\n",
       "    <tr>\n",
       "      <th>2018-03-31</th>\n",
       "      <td>35759.211749</td>\n",
       "      <td>1.521278e+09</td>\n",
       "      <td>13088.821468</td>\n",
       "      <td>2018.0</td>\n",
       "      <td>3.0</td>\n",
       "      <td>2018.0</td>\n",
       "      <td>3.0</td>\n",
       "    </tr>\n",
       "    <tr>\n",
       "      <th>2018-04-30</th>\n",
       "      <td>36368.050771</td>\n",
       "      <td>1.523872e+09</td>\n",
       "      <td>13062.143696</td>\n",
       "      <td>2018.0</td>\n",
       "      <td>4.0</td>\n",
       "      <td>2018.0</td>\n",
       "      <td>4.0</td>\n",
       "    </tr>\n",
       "  </tbody>\n",
       "</table>\n",
       "</div>"
      ],
      "text/plain": [
       "                 step_id     timestamp       user_id  dateyear  datemonth  \\\n",
       "date                                                                        \n",
       "2015-08-31  32802.874457  1.439784e+09  15430.606182    2015.0        8.0   \n",
       "2015-09-30  32725.500753  1.442319e+09  15035.094857    2015.0        9.0   \n",
       "2015-10-31  32734.172844  1.445222e+09  14297.456279    2015.0       10.0   \n",
       "2015-11-30  32800.241970  1.447612e+09  14140.340982    2015.0       11.0   \n",
       "2015-12-31  32840.624546  1.450181e+09  13490.822805    2015.0       12.0   \n",
       "2016-01-31  32794.939404  1.453076e+09  13415.122528    2016.0        1.0   \n",
       "2016-02-29  32815.864116  1.455587e+09  13779.705069    2016.0        2.0   \n",
       "2016-03-31  32762.855760  1.458175e+09  12954.042779    2016.0        3.0   \n",
       "2016-04-30  32834.568237  1.460651e+09  12859.237911    2016.0        4.0   \n",
       "2016-05-31  32871.937513  1.463323e+09  13787.075387    2016.0        5.0   \n",
       "2016-06-30  33073.343440  1.466130e+09  12493.414936    2016.0        6.0   \n",
       "2016-07-31  33056.264369  1.468766e+09  13019.801863    2016.0        7.0   \n",
       "2016-08-31  34817.000321  1.471442e+09  12939.721175    2016.0        8.0   \n",
       "2016-09-30  35448.953764  1.474049e+09  13760.820283    2016.0        9.0   \n",
       "2016-10-31  34836.478732  1.476415e+09  14023.473139    2016.0       10.0   \n",
       "2016-11-30  34814.082567  1.479215e+09  14124.750279    2016.0       11.0   \n",
       "2016-12-31  34821.427799  1.481841e+09  11810.897714    2016.0       12.0   \n",
       "2017-01-31  35574.813446  1.484623e+09  13212.542238    2017.0        1.0   \n",
       "2017-02-28  37019.971905  1.487189e+09  12841.694285    2017.0        2.0   \n",
       "2017-03-31  36440.872251  1.489711e+09  12729.983330    2017.0        3.0   \n",
       "2017-04-30  36170.055542  1.492270e+09  13178.181205    2017.0        4.0   \n",
       "2017-05-31  36532.883763  1.494926e+09  13612.930068    2017.0        5.0   \n",
       "2017-06-30  36607.240478  1.497482e+09  13740.969324    2017.0        6.0   \n",
       "2017-07-31  36231.187359  1.500208e+09  13210.729892    2017.0        7.0   \n",
       "2017-08-31  36386.634344  1.502903e+09  12297.932056    2017.0        8.0   \n",
       "2017-09-30  36775.842872  1.505537e+09  13209.185851    2017.0        9.0   \n",
       "2017-10-31  36459.082211  1.508189e+09  13761.274076    2017.0       10.0   \n",
       "2017-11-30  36183.219444  1.510813e+09  12552.006044    2017.0       11.0   \n",
       "2017-12-31  36181.705664  1.513417e+09  12630.613328    2017.0       12.0   \n",
       "2018-01-31  36066.528403  1.516083e+09  13599.388446    2018.0        1.0   \n",
       "2018-02-28  36189.745056  1.518723e+09  13445.492702    2018.0        2.0   \n",
       "2018-03-31  35759.211749  1.521278e+09  13088.821468    2018.0        3.0   \n",
       "2018-04-30  36368.050771  1.523872e+09  13062.143696    2018.0        4.0   \n",
       "\n",
       "            date year  date month  \n",
       "date                               \n",
       "2015-08-31     2015.0         8.0  \n",
       "2015-09-30     2015.0         9.0  \n",
       "2015-10-31     2015.0        10.0  \n",
       "2015-11-30     2015.0        11.0  \n",
       "2015-12-31     2015.0        12.0  \n",
       "2016-01-31     2016.0         1.0  \n",
       "2016-02-29     2016.0         2.0  \n",
       "2016-03-31     2016.0         3.0  \n",
       "2016-04-30     2016.0         4.0  \n",
       "2016-05-31     2016.0         5.0  \n",
       "2016-06-30     2016.0         6.0  \n",
       "2016-07-31     2016.0         7.0  \n",
       "2016-08-31     2016.0         8.0  \n",
       "2016-09-30     2016.0         9.0  \n",
       "2016-10-31     2016.0        10.0  \n",
       "2016-11-30     2016.0        11.0  \n",
       "2016-12-31     2016.0        12.0  \n",
       "2017-01-31     2017.0         1.0  \n",
       "2017-02-28     2017.0         2.0  \n",
       "2017-03-31     2017.0         3.0  \n",
       "2017-04-30     2017.0         4.0  \n",
       "2017-05-31     2017.0         5.0  \n",
       "2017-06-30     2017.0         6.0  \n",
       "2017-07-31     2017.0         7.0  \n",
       "2017-08-31     2017.0         8.0  \n",
       "2017-09-30     2017.0         9.0  \n",
       "2017-10-31     2017.0        10.0  \n",
       "2017-11-30     2017.0        11.0  \n",
       "2017-12-31     2017.0        12.0  \n",
       "2018-01-31     2018.0         1.0  \n",
       "2018-02-28     2018.0         2.0  \n",
       "2018-03-31     2018.0         3.0  \n",
       "2018-04-30     2018.0         4.0  "
      ]
     },
     "execution_count": 78,
     "metadata": {},
     "output_type": "execute_result"
    }
   ],
   "source": [
    "new_events_data['2015-08':'2018-04']"
   ]
  },
  {
   "cell_type": "code",
   "execution_count": 82,
   "metadata": {},
   "outputs": [
    {
     "data": {
      "text/html": [
       "<div>\n",
       "<style scoped>\n",
       "    .dataframe tbody tr th:only-of-type {\n",
       "        vertical-align: middle;\n",
       "    }\n",
       "\n",
       "    .dataframe tbody tr th {\n",
       "        vertical-align: top;\n",
       "    }\n",
       "\n",
       "    .dataframe thead th {\n",
       "        text-align: right;\n",
       "    }\n",
       "</style>\n",
       "<table border=\"1\" class=\"dataframe\">\n",
       "  <thead>\n",
       "    <tr style=\"text-align: right;\">\n",
       "      <th></th>\n",
       "      <th>step_id</th>\n",
       "      <th>timestamp</th>\n",
       "      <th>user_id</th>\n",
       "      <th>dateyear</th>\n",
       "      <th>datemonth</th>\n",
       "      <th>date year</th>\n",
       "      <th>date month</th>\n",
       "    </tr>\n",
       "    <tr>\n",
       "      <th>date</th>\n",
       "      <th></th>\n",
       "      <th></th>\n",
       "      <th></th>\n",
       "      <th></th>\n",
       "      <th></th>\n",
       "      <th></th>\n",
       "      <th></th>\n",
       "    </tr>\n",
       "  </thead>\n",
       "  <tbody>\n",
       "    <tr>\n",
       "      <th>2015-08-01</th>\n",
       "      <td>32622.446360</td>\n",
       "      <td>1.438436e+09</td>\n",
       "      <td>14840.034483</td>\n",
       "      <td>2015.0</td>\n",
       "      <td>8.0</td>\n",
       "      <td>2015.0</td>\n",
       "      <td>8.0</td>\n",
       "    </tr>\n",
       "    <tr>\n",
       "      <th>2015-08-02</th>\n",
       "      <td>32719.996032</td>\n",
       "      <td>1.438524e+09</td>\n",
       "      <td>13197.288360</td>\n",
       "      <td>2015.0</td>\n",
       "      <td>8.0</td>\n",
       "      <td>2015.0</td>\n",
       "      <td>8.0</td>\n",
       "    </tr>\n",
       "    <tr>\n",
       "      <th>2015-08-03</th>\n",
       "      <td>32815.008222</td>\n",
       "      <td>1.438605e+09</td>\n",
       "      <td>15433.860226</td>\n",
       "      <td>2015.0</td>\n",
       "      <td>8.0</td>\n",
       "      <td>2015.0</td>\n",
       "      <td>8.0</td>\n",
       "    </tr>\n",
       "    <tr>\n",
       "      <th>2015-08-04</th>\n",
       "      <td>33001.398164</td>\n",
       "      <td>1.438693e+09</td>\n",
       "      <td>17592.905676</td>\n",
       "      <td>2015.0</td>\n",
       "      <td>8.0</td>\n",
       "      <td>2015.0</td>\n",
       "      <td>8.0</td>\n",
       "    </tr>\n",
       "    <tr>\n",
       "      <th>2015-08-05</th>\n",
       "      <td>32946.242764</td>\n",
       "      <td>1.438780e+09</td>\n",
       "      <td>17316.809524</td>\n",
       "      <td>2015.0</td>\n",
       "      <td>8.0</td>\n",
       "      <td>2015.0</td>\n",
       "      <td>8.0</td>\n",
       "    </tr>\n",
       "    <tr>\n",
       "      <th>...</th>\n",
       "      <td>...</td>\n",
       "      <td>...</td>\n",
       "      <td>...</td>\n",
       "      <td>...</td>\n",
       "      <td>...</td>\n",
       "      <td>...</td>\n",
       "      <td>...</td>\n",
       "    </tr>\n",
       "    <tr>\n",
       "      <th>2018-03-28</th>\n",
       "      <td>35501.796305</td>\n",
       "      <td>1.522253e+09</td>\n",
       "      <td>13302.604619</td>\n",
       "      <td>2018.0</td>\n",
       "      <td>3.0</td>\n",
       "      <td>2018.0</td>\n",
       "      <td>3.0</td>\n",
       "    </tr>\n",
       "    <tr>\n",
       "      <th>2018-03-29</th>\n",
       "      <td>35344.338266</td>\n",
       "      <td>1.522322e+09</td>\n",
       "      <td>12416.741727</td>\n",
       "      <td>2018.0</td>\n",
       "      <td>3.0</td>\n",
       "      <td>2018.0</td>\n",
       "      <td>3.0</td>\n",
       "    </tr>\n",
       "    <tr>\n",
       "      <th>2018-03-30</th>\n",
       "      <td>35448.929632</td>\n",
       "      <td>1.522418e+09</td>\n",
       "      <td>13938.218851</td>\n",
       "      <td>2018.0</td>\n",
       "      <td>3.0</td>\n",
       "      <td>2018.0</td>\n",
       "      <td>3.0</td>\n",
       "    </tr>\n",
       "    <tr>\n",
       "      <th>2018-03-31</th>\n",
       "      <td>35479.967364</td>\n",
       "      <td>1.522508e+09</td>\n",
       "      <td>15410.143853</td>\n",
       "      <td>2018.0</td>\n",
       "      <td>3.0</td>\n",
       "      <td>2018.0</td>\n",
       "      <td>3.0</td>\n",
       "    </tr>\n",
       "    <tr>\n",
       "      <th>2018-04-01</th>\n",
       "      <td>36536.340364</td>\n",
       "      <td>1.522594e+09</td>\n",
       "      <td>13471.759028</td>\n",
       "      <td>2018.0</td>\n",
       "      <td>4.0</td>\n",
       "      <td>2018.0</td>\n",
       "      <td>4.0</td>\n",
       "    </tr>\n",
       "  </tbody>\n",
       "</table>\n",
       "<p>975 rows × 7 columns</p>\n",
       "</div>"
      ],
      "text/plain": [
       "                 step_id     timestamp       user_id  dateyear  datemonth  \\\n",
       "date                                                                        \n",
       "2015-08-01  32622.446360  1.438436e+09  14840.034483    2015.0        8.0   \n",
       "2015-08-02  32719.996032  1.438524e+09  13197.288360    2015.0        8.0   \n",
       "2015-08-03  32815.008222  1.438605e+09  15433.860226    2015.0        8.0   \n",
       "2015-08-04  33001.398164  1.438693e+09  17592.905676    2015.0        8.0   \n",
       "2015-08-05  32946.242764  1.438780e+09  17316.809524    2015.0        8.0   \n",
       "...                  ...           ...           ...       ...        ...   \n",
       "2018-03-28  35501.796305  1.522253e+09  13302.604619    2018.0        3.0   \n",
       "2018-03-29  35344.338266  1.522322e+09  12416.741727    2018.0        3.0   \n",
       "2018-03-30  35448.929632  1.522418e+09  13938.218851    2018.0        3.0   \n",
       "2018-03-31  35479.967364  1.522508e+09  15410.143853    2018.0        3.0   \n",
       "2018-04-01  36536.340364  1.522594e+09  13471.759028    2018.0        4.0   \n",
       "\n",
       "            date year  date month  \n",
       "date                               \n",
       "2015-08-01     2015.0         8.0  \n",
       "2015-08-02     2015.0         8.0  \n",
       "2015-08-03     2015.0         8.0  \n",
       "2015-08-04     2015.0         8.0  \n",
       "2015-08-05     2015.0         8.0  \n",
       "...               ...         ...  \n",
       "2018-03-28     2018.0         3.0  \n",
       "2018-03-29     2018.0         3.0  \n",
       "2018-03-30     2018.0         3.0  \n",
       "2018-03-31     2018.0         3.0  \n",
       "2018-04-01     2018.0         4.0  \n",
       "\n",
       "[975 rows x 7 columns]"
      ]
     },
     "execution_count": 82,
     "metadata": {},
     "output_type": "execute_result"
    }
   ],
   "source": [
    "events_data.resample('D').mean()['2015-08-01':'2018-04-01']"
   ]
  },
  {
   "cell_type": "code",
   "execution_count": null,
   "metadata": {},
   "outputs": [],
   "source": []
  }
 ],
 "metadata": {
  "kernelspec": {
   "display_name": "Python 3",
   "language": "python",
   "name": "python3"
  },
  "language_info": {
   "codemirror_mode": {
    "name": "ipython",
    "version": 3
   },
   "file_extension": ".py",
   "mimetype": "text/x-python",
   "name": "python",
   "nbconvert_exporter": "python",
   "pygments_lexer": "ipython3",
   "version": "3.8.3"
  }
 },
 "nbformat": 4,
 "nbformat_minor": 4
}
